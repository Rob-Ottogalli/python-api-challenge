{
 "cells": [
  {
   "cell_type": "code",
   "execution_count": 2,
   "metadata": {},
   "outputs": [],
   "source": [
    "from itertools import islice "
   ]
  },
  {
   "cell_type": "code",
   "execution_count": 14,
   "metadata": {},
   "outputs": [
    {
     "name": "stdout",
     "output_type": "stream",
     "text": [
      "['ushuaia', 'guerrero negro', 'menongue', 'hobart', 'rikitea', 'okhotsk', 'cherskiy', 'cabo san lucas', 'mahebourg', 'nizwa', 'salalah', 'berlevag', 'hilo', 'takoradi', 'georgetown', 'roald', 'trinidad', 'cape town', 'svetlaya', 'albany', 'goderich', 'khatanga', 'narsaq', 'saskylakh', 'jamestown', 'lorengau', 'grand river south east', 'qaanaaq', 'ambilobe', 'tuatapere', 'margate', 'svetlyy', 'kaitangata', 'ferkessedougou', 'atuona', 'lolua', 'talnakh', 'san patricio', 'carnarvon', 'zhongshu', 'hermanus', 'bredasdorp', 'longyearbyen', 'belushya guba', 'mwense', 'iqaluit', 'guelengdeng', 'nelson bay', 'thompson', 'attawapiskat', 'bluff', 'betare oya', 'bhimunipatnam', 'busselton', 'yellowknife', 'ancud', 'prainha', 'port stanley', 'zhicheng', 'norman wells', 'punta arenas', 'amderma', 'touros', 'codrington', 'severo-kurilsk', 'aykhal', 'port alfred', 'katsuura', 'salinopolis', 'petropavlovsk-kamchatskiy', 'saint-augustin', 'ardakan', 'weihe', 'visnes', 'new norfolk', 'ribeira grande', 'vaitupu', 'taolanaro', 'hit', 'roma', 'toropets', 'galle', 'montalvo', 'mataura', 'nizhneyansk', 'kyren', 'kapaa', 'bethel', 'vuktyl', 'namatanai', 'thatta', 'pokrovsk', 'avarua', 'play cu', 'lorain', 'rungata', 'mogwase', 'road town', 'hithadhoo', 'fayetteville', 'husavik', 'port elizabeth', 'satitoa', 'sentyabrskiy', 'ures', 'samana', 'chestermere', 'bathsheba', 'saldanha', 'quelimane', 'zelenets', 'bolungarvik', 'faanui', 'brigantine', 'lebu', 'deoria', 'suao', 'esperance', 'illoqqortoormiut', 'pangnirtung', 'zabol', 'nikolskoye', 'chuy', 'barentsburg', 'qinhuangdao', 'clyde river', 'oyama', 'puerto ayora', 'andros town', 'sao filipe', 'leningradskiy', 'pafos', 'ponta do sol', 'oksfjord', 'sitka', 'tsihombe', 'tasiilaq', 'barrow', 'broome', 'castro', 'sambava', 'east london', 'vaini', 'half moon bay', 'chunskiy', 'tigil', 'dunedin', 'tuktoyaktuk', 'mys shmidta', 'harrison', 'chumikan', 'lincoln', 'grindavik', 'pevek', 'columbus', 'vysokogornyy', 'bin qirdan', 'lagoa', 'kathu', 'balsas', 'waconia', 'miracema do tocantins', 'yeppoon', 'victor harbor', 'donskoye', 'coihaique', 'cidreira', 'arraial do cabo', 'wonthaggi', 'kyzyl-suu', 'saulkrasti', 'samalaeulu', 'demyansk', 'leeston', 'algiers', 'lancaster', 'hambantota', 'nouadhibou', 'tondano', 'geraldton', 'khormuj', 'butaritari', 'airai', 'kavieng', 'hervey bay', 'uray', 'alice springs', 'sao jose da coroa grande', 'samarai', 'bengkulu', 'gat', 'vardo', 'vao', 'omsukchan', 'san juan', 'sumisip', 'mar del plata', 'hofn', 'qaqortoq', 'rauma', 'kruisfontein', 'havelock', 'oranjemund', 'sorong', 'balabac', 'kaduqli', 'kindu', 'durban', 'san cristobal', 'te anau', 'nedjo', 'catarman', 'upernavik', 'trincomalee', 'culaman', 'nanortalik', 'lianzhou', 'sinnamary', 'saleaula', 'umm lajj', 'homer', 'inongo', 'paita', 'nipawin', 'manokwari', 'grand gaube', 'camopi', 'coromandel', 'bonfim', 'ostrovnoy', 'hualmay', 'ziway', 'ust-tsilma', 'minden', 'vanavara', 'zirandaro', 'mayumba', 'xuddur', 'pisco', 'safranbolu', 'bay village', 'cayenne', 'hirara', 'padang', 'provideniya', 'asau', 'souillac', 'praia', 'itaituba', 'komsomolskiy', 'halalo', 'mizan teferi', 'selenginsk', 'togur', 'nizhniy baskunchak', 'coronado', 'cascais', 'dingle', 'dikson', 'sorland', 'naze', 'victoria', 'isla vista', 'hasaki', 'isangel', 'bambous virieux', 'voh', 'jibuti', 'paamiut', 'ipixuna', 'hohhot', 'axim', 'viedma', 'campo de criptana', 'bjornevatn', 'kariba', 'santona', 'usinsk', 'astana', 'balykshi', 'labuhan', 'port lincoln', 'glenwood springs', 'oktyabrskoye', 'ligayan', 'krasnogorskoye', 'saint-philippe', 'springdale', 'moen', 'saint george', 'umzimvubu', 'pichucalco', 'banda aceh', 'asbury park', 'port augusta', 'vila franca do campo', 'nikologory', 'flinders', 'bat khela', 'kawambwa', 'poum', 'altay', 'eyl', 'mangan', 'mafinga', 'fortuna', 'mikun', 'san policarpo', 'kanel', 'tarudant', 'kayerkan', 'krasnovishersk', 'davila', 'nuuk', 'les cayes', 'kongolo', 'suzaka', 'pinheiro machado', 'madimba', 'kiama', 'dickinson', 'ahipara', 'tautira', 'ilulissat', 'port keats', 'marsh harbour', 'contamana', 'port hawkesbury', 'merauke', 'churapcha', 'chivasso', 'cerritos', 'kiunga', 'walvis bay', 'ocos', 'richards bay', 'markova', 'tiksi', 'lanigan', 'metro', 'kalynivka', 'dudinka', 'kodiak', 'zeya', 'puerto baquerizo moreno', 'gizo', 'khasan', 'kahului', 'saint-francois', 'oyem', 'luderitz', 'ngukurr', 'tual', 'san carlos de bariloche', 'baykit', 'abu samrah', 'erenhot', 'filingue', 'yulara', 'palmer', 'verkhoyansk', 'kananga', 'bonavista', 'son en breugel', 'khash', 'sao paulo de olivenca', 'rawannawi', 'katobu', 'westport', 'talcahuano', 'shache', 'fairbanks', 'havre-saint-pierre', 'tigzirt', 'aklavik', 'lata', 'gonyu', 'yangambi', 'atar', 'brahmapuri', 'kushmurun', 'jiddah', 'zhigalovo', 'phangnga', 'coquimbo', 'illela', 'prigorodnyy', 'arman', 'pasighat', 'santiago', 'port hedland', 'cabra', 'ust-nera', 'kamaishi', 'port blair', 'sungairaya', 'dwarka', 'chengde', 'mayahi', 'kozhva', 'maniitsoq', 'najran', 'tabiauea', 'great yarmouth', 'hamilton', 'torbay', 'jacareacanga', 'pimenta bueno', 'marcala', 'kununurra', 'kuandian', 'new ross', 'fort nelson', 'kuche', 'ler', 'olutanga', 'gaogou', 'lompoc', 'keta', 'mutis', 'lashio', 'toora-khem', 'barbar', 'momignies', 'basco', 'ambodifototra', 'igbo ora', 'samoded', 'la ronge', 'toliary', 'sampit', 'yagodnoye', 'college', 'zhezkazgan', 'cabedelo', 'tukrah', 'dali', 'lethem', 'belmonte', 'manzhouli', 'capinota', 'anadyr', 'tianpeng', 'abalak', 'corralillo', 'rajmahal', 'kerki', 'bayir', 'itarema', 'rincon', 'sept-iles', 'gweta', 'avera', 'takaka', 'kampong thum', 'tessalit', 'alexandria', 'rio gallegos', 'bundaberg', 'buchanan', 'kemijarvi', 'orasac', 'emerald', 'lichinga', 'sakaiminato', 'mount darwin', 'semenivka', 'khanpur', 'tilichiki', 'svetlogorsk', 'hami', 'zhigansk', 'virginia beach', 'korla', 'mackay', 'mandalgovi', 'piacabucu', 'muisne', 'lakes entrance', 'punta', 'beira', 'taltal', 'shieli', 'srednekolymsk', 'ginir', 'uruguaiana', 'moron', 'tumannyy', 'laem sing', 'cikupa', 'ketchikan', 'chokurdakh', 'seoul', 'simplicio mendes', 'nantucket', 'lieksa', 'mopipi', 'kortkeros', 'tura', 'port hardy', 'gondal', 'tabarqah', 'fujin', 'vicksburg', 'tortosa', 'camocim', 'republic', 'merrill', 'sisimiut', 'qui nhon', 'hashtrud', 'praia da vitoria', 'la rioja', 'vestmannaeyjar', 'alihe', 'yazman', 'la asuncion', 'nabire', 'itoman', 'castle bruce', 'cerrik', 'mount gambier', 'puerto madero', 'yakeshi', 'louisbourg', 'yenagoa', 'ratnagiri', 'nishihara', 'tandil', 'ust-kulom', 'ankang', 'port-gentil', 'tommot', 'jalu', 'tak bai', 'niquero', 'kihei', 'harper', 'alofi', 'tateyama', 'potiskum', 'sao joao da barra', 'nenjiang', 'lasa', 'kirakira', 'mabay', 'faya', 'banyo', 'klaksvik', 'honningsvag', 'san lawrenz', 'yar-sale', 'baie-comeau', 'klyuchi', 'pringsewu', 'elizabeth city', 'kavaratti', 'barahona', 'yatou', 'bac lieu', 'kidal', 'uvat', 'tabou', 'kandrian', 'zhangye', 'quesnel', 'karaul', 'nacala', 'sandwick', 'inirida', 'ayer molek', 'scarborough', 'makakilo city', 'ballina', 'xining', 'nadapuram', 'kuusamo', 'razam', 'yarim', 'the valley', 'beloha', 'jumla', 'palabuhanratu', 'knyaze-volkonskoye', 'millinocket', 'tasbuget', 'port macquarie', 'kangaatsiaq', 'petukhovo', 'igarka', 'raga', 'palaikastron', 'vedaranniyam', 'natal', 'huarmey', 'rawson', 'lewiston', 'skagastrond', 'mapua', 'rey bouba', 'hokitika', 'warqla', 'new waterford', 'meulaboh', 'lazaro cardenas', 'zolotinka', 'puerto carreno', 'los llanos de aridane', 'tari', 'adrar', 'beyneu', 'marawi', 'obera', 'san joaquin', 'yaring', 'samusu', 'wanning', 'mao', 'berbera', 'chapais', 'wulanhaote', 'laguna', 'barcarena', 'okato', 'xucheng', 'haines junction']\n"
     ]
    }
   ],
   "source": [
    "cities = ['ushuaia', 'guerrero negro', 'menongue', 'hobart', 'rikitea', 'okhotsk', 'cherskiy', 'cabo san lucas', 'mahebourg', 'nizwa', 'salalah', 'berlevag', 'hilo', 'takoradi', 'georgetown', 'roald', 'trinidad', 'cape town', 'svetlaya', 'albany', 'goderich', 'khatanga', 'narsaq', 'saskylakh', 'jamestown', 'lorengau', 'grand river south east', 'qaanaaq', 'ambilobe', 'tuatapere', 'margate', 'svetlyy', 'kaitangata', 'ferkessedougou', 'atuona', 'lolua', 'talnakh', 'san patricio', 'carnarvon', 'zhongshu', 'hermanus', 'bredasdorp', 'longyearbyen', 'belushya guba', 'mwense', 'iqaluit', 'guelengdeng', 'nelson bay', 'thompson', 'attawapiskat', 'bluff', 'betare oya', 'bhimunipatnam', 'busselton', 'yellowknife', 'ancud', 'prainha', 'port stanley', 'zhicheng', 'norman wells', 'punta arenas', 'amderma', 'touros', 'codrington', 'severo-kurilsk', 'aykhal', 'port alfred', 'katsuura', 'salinopolis', 'petropavlovsk-kamchatskiy', 'saint-augustin', 'ardakan', 'weihe', 'visnes', 'new norfolk', 'ribeira grande', 'vaitupu', 'taolanaro', 'hit', 'roma', 'toropets', 'galle', 'montalvo', 'mataura', 'nizhneyansk', 'kyren', 'kapaa', 'bethel', 'vuktyl', 'namatanai', 'thatta', 'pokrovsk', 'avarua', 'play cu', 'lorain', 'rungata', 'mogwase', 'road town', 'hithadhoo', 'fayetteville', 'husavik', 'port elizabeth', 'satitoa', 'sentyabrskiy', 'ures', 'samana', 'chestermere', 'bathsheba', 'saldanha', 'quelimane', 'zelenets', 'bolungarvik', 'faanui', 'brigantine', 'lebu', 'deoria', 'suao', 'esperance', 'illoqqortoormiut', 'pangnirtung', 'zabol', 'nikolskoye', 'chuy', 'barentsburg', 'qinhuangdao', 'clyde river', 'oyama', 'puerto ayora', 'andros town', 'sao filipe', 'leningradskiy', 'pafos', 'ponta do sol', 'oksfjord', 'sitka', 'tsihombe', 'tasiilaq', 'barrow', 'broome', 'castro', 'sambava', 'east london', 'vaini', 'half moon bay', 'chunskiy', 'tigil', 'dunedin', 'tuktoyaktuk', 'mys shmidta', 'harrison', 'chumikan', 'lincoln', 'grindavik', 'pevek', 'columbus', 'vysokogornyy', 'bin qirdan', 'lagoa', 'kathu', 'balsas', 'waconia', 'miracema do tocantins', 'yeppoon', 'victor harbor', 'donskoye', 'coihaique', 'cidreira', 'arraial do cabo', 'wonthaggi', 'kyzyl-suu', 'saulkrasti', 'samalaeulu', 'demyansk', 'leeston', 'algiers', 'lancaster', 'hambantota', 'nouadhibou', 'tondano', 'geraldton', 'khormuj', 'butaritari', 'airai', 'kavieng', 'hervey bay', 'uray', 'alice springs', 'sao jose da coroa grande', 'samarai', 'bengkulu', 'gat', 'vardo', 'vao', 'omsukchan', 'san juan', 'sumisip', 'mar del plata', 'hofn', 'qaqortoq', 'rauma', 'kruisfontein', 'havelock', 'oranjemund', 'sorong', 'balabac', 'kaduqli', 'kindu', 'durban', 'san cristobal', 'te anau', 'nedjo', 'catarman', 'upernavik', 'trincomalee', 'culaman', 'nanortalik', 'lianzhou', 'sinnamary', 'saleaula', 'umm lajj', 'homer', 'inongo', 'paita', 'nipawin', 'manokwari', 'grand gaube', 'camopi', 'coromandel', 'bonfim', 'ostrovnoy', 'hualmay', 'ziway', 'ust-tsilma', 'minden', 'vanavara', 'zirandaro', 'mayumba', 'xuddur', 'pisco', 'safranbolu', 'bay village', 'cayenne', 'hirara', 'padang', 'provideniya', 'asau', 'souillac', 'praia', 'itaituba', 'komsomolskiy', 'halalo', 'mizan teferi', 'selenginsk', 'togur', 'nizhniy baskunchak', 'coronado', 'cascais', 'dingle', 'dikson', 'sorland', 'naze', 'victoria', 'isla vista', 'hasaki', 'isangel', 'bambous virieux', 'voh', 'jibuti', 'paamiut', 'ipixuna', 'hohhot', 'axim', 'viedma', 'campo de criptana', 'bjornevatn', 'kariba', 'santona', 'usinsk', 'astana', 'balykshi', 'labuhan', 'port lincoln', 'glenwood springs', 'oktyabrskoye', 'ligayan', 'krasnogorskoye', 'saint-philippe', 'springdale', 'moen', 'saint george', 'umzimvubu', 'pichucalco', 'banda aceh', 'asbury park', 'port augusta', 'vila franca do campo', 'nikologory', 'flinders', 'bat khela', 'kawambwa', 'poum', 'altay', 'eyl', 'mangan', 'mafinga', 'fortuna', 'mikun', 'san policarpo', 'kanel', 'tarudant', 'kayerkan', 'krasnovishersk', 'davila', 'nuuk', 'les cayes', 'kongolo', 'suzaka', 'pinheiro machado', 'madimba', 'kiama', 'dickinson', 'ahipara', 'tautira', 'ilulissat', 'port keats', 'marsh harbour', 'contamana', 'port hawkesbury', 'merauke', 'churapcha', 'chivasso', 'cerritos', 'kiunga', 'walvis bay', 'ocos', 'richards bay', 'markova', 'tiksi', 'lanigan', 'metro', 'kalynivka', 'dudinka', 'kodiak', 'zeya', 'puerto baquerizo moreno', 'gizo', 'khasan', 'kahului', 'saint-francois', 'oyem', 'luderitz', 'ngukurr', 'tual', 'san carlos de bariloche', 'baykit', 'abu samrah', 'erenhot', 'filingue', 'yulara', 'palmer', 'verkhoyansk', 'kananga', 'bonavista', 'son en breugel', 'khash', 'sao paulo de olivenca', 'rawannawi', 'katobu', 'westport', 'talcahuano', 'shache', 'fairbanks', 'havre-saint-pierre', 'tigzirt', 'aklavik', 'lata', 'gonyu', 'yangambi', 'atar', 'brahmapuri', 'kushmurun', 'jiddah', 'zhigalovo', 'phangnga', 'coquimbo', 'illela', 'prigorodnyy', 'arman', 'pasighat', 'santiago', 'port hedland', 'cabra', 'ust-nera', 'kamaishi', 'port blair', 'sungairaya', 'dwarka', 'chengde', 'mayahi', 'kozhva', 'maniitsoq', 'najran', 'tabiauea', 'great yarmouth', 'hamilton', 'torbay', 'jacareacanga', 'pimenta bueno', 'marcala', 'kununurra', 'kuandian', 'new ross', 'fort nelson', 'kuche', 'ler', 'olutanga', 'gaogou', 'lompoc', 'keta', 'mutis', 'lashio', 'toora-khem', 'barbar', 'momignies', 'basco', 'ambodifototra', 'igbo ora', 'samoded', 'la ronge', 'toliary', 'sampit', 'yagodnoye', 'college', 'zhezkazgan', 'cabedelo', 'tukrah', 'dali', 'lethem', 'belmonte', 'manzhouli', 'capinota', 'anadyr', 'tianpeng', 'abalak', 'corralillo', 'rajmahal', 'kerki', 'bayir', 'itarema', 'rincon', 'sept-iles', 'gweta', 'avera', 'takaka', 'kampong thum', 'tessalit', 'alexandria', 'rio gallegos', 'bundaberg', 'buchanan', 'kemijarvi', 'orasac', 'emerald', 'lichinga', 'sakaiminato', 'mount darwin', 'semenivka', 'khanpur', 'tilichiki', 'svetlogorsk', 'hami', 'zhigansk', 'virginia beach', 'korla', 'mackay', 'mandalgovi', 'piacabucu', 'muisne', 'lakes entrance', 'punta', 'beira', 'taltal', 'shieli', 'srednekolymsk', 'ginir', 'uruguaiana', 'moron', 'tumannyy', 'laem sing', 'cikupa', 'ketchikan', 'chokurdakh', 'seoul', 'simplicio mendes', 'nantucket', 'lieksa', 'mopipi', 'kortkeros', 'tura', 'port hardy', 'gondal', 'tabarqah', 'fujin', 'vicksburg', 'tortosa', 'camocim', 'republic', 'merrill', 'sisimiut', 'qui nhon', 'hashtrud', 'praia da vitoria', 'la rioja', 'vestmannaeyjar', 'alihe', 'yazman', 'la asuncion', 'nabire', 'itoman', 'castle bruce', 'cerrik', 'mount gambier', 'puerto madero', 'yakeshi', 'louisbourg', 'yenagoa', 'ratnagiri', 'nishihara', 'tandil', 'ust-kulom', 'ankang', 'port-gentil', 'tommot', 'jalu', 'tak bai', 'niquero', 'kihei', 'harper', 'alofi', 'tateyama', 'potiskum', 'sao joao da barra', 'nenjiang', 'lasa', 'kirakira', 'mabay', 'faya', 'banyo', 'klaksvik', 'honningsvag', 'san lawrenz', 'yar-sale', 'baie-comeau', 'klyuchi', 'pringsewu', 'elizabeth city', 'kavaratti', 'barahona', 'yatou', 'bac lieu', 'kidal', 'uvat', 'tabou', 'kandrian', 'zhangye', 'quesnel', 'karaul', 'nacala', 'sandwick', 'inirida', 'ayer molek', 'scarborough', 'makakilo city', 'ballina', 'xining', 'nadapuram', 'kuusamo', 'razam', 'yarim', 'the valley', 'beloha', 'jumla', 'palabuhanratu', 'knyaze-volkonskoye', 'millinocket', 'tasbuget', 'port macquarie', 'kangaatsiaq', 'petukhovo', 'igarka', 'raga', 'palaikastron', 'vedaranniyam', 'natal', 'huarmey', 'rawson', 'lewiston', 'skagastrond', 'mapua', 'rey bouba', 'hokitika', 'warqla', 'new waterford', 'meulaboh', 'lazaro cardenas', 'zolotinka', 'puerto carreno', 'los llanos de aridane', 'tari', 'adrar', 'beyneu', 'marawi', 'obera', 'san joaquin', 'yaring', 'samusu', 'wanning', 'mao', 'berbera', 'chapais', 'wulanhaote', 'laguna', 'barcarena', 'okato', 'xucheng', 'haines junction']\n",
    "print(cities)"
   ]
  },
  {
   "cell_type": "code",
   "execution_count": 13,
   "metadata": {},
   "outputs": [
    {
     "name": "stdout",
     "output_type": "stream",
     "text": [
      "[['ushuaia', 'guerrero negro', 'menongue', 'hobart', 'rikitea', 'okhotsk', 'cherskiy', 'cabo san lucas', 'mahebourg', 'nizwa', 'salalah', 'berlevag', 'hilo', 'takoradi', 'georgetown', 'roald', 'trinidad', 'cape town', 'svetlaya', 'albany', 'goderich', 'khatanga', 'narsaq', 'saskylakh', 'jamestown', 'lorengau', 'grand river south east', 'qaanaaq', 'ambilobe', 'tuatapere', 'margate', 'svetlyy', 'kaitangata', 'ferkessedougou', 'atuona', 'lolua', 'talnakh', 'san patricio', 'carnarvon', 'zhongshu', 'hermanus', 'bredasdorp', 'longyearbyen', 'belushya guba', 'mwense', 'iqaluit', 'guelengdeng', 'nelson bay', 'thompson', 'attawapiskat'], ['bluff', 'betare oya', 'bhimunipatnam', 'busselton', 'yellowknife', 'ancud', 'prainha', 'port stanley', 'zhicheng', 'norman wells', 'punta arenas', 'amderma', 'touros', 'codrington', 'severo-kurilsk', 'aykhal', 'port alfred', 'katsuura', 'salinopolis', 'petropavlovsk-kamchatskiy', 'saint-augustin', 'ardakan', 'weihe', 'visnes', 'new norfolk', 'ribeira grande', 'vaitupu', 'taolanaro', 'hit', 'roma', 'toropets', 'galle', 'montalvo', 'mataura', 'nizhneyansk', 'kyren', 'kapaa', 'bethel', 'vuktyl', 'namatanai', 'thatta', 'pokrovsk', 'avarua', 'play cu', 'lorain', 'rungata', 'mogwase', 'road town', 'hithadhoo', 'fayetteville'], ['husavik', 'port elizabeth', 'satitoa', 'sentyabrskiy', 'ures', 'samana', 'chestermere', 'bathsheba', 'saldanha', 'quelimane', 'zelenets', 'bolungarvik', 'faanui', 'brigantine', 'lebu', 'deoria', 'suao', 'esperance', 'illoqqortoormiut', 'pangnirtung', 'zabol', 'nikolskoye', 'chuy', 'barentsburg', 'qinhuangdao', 'clyde river', 'oyama', 'puerto ayora', 'andros town', 'sao filipe', 'leningradskiy', 'pafos', 'ponta do sol', 'oksfjord', 'sitka', 'tsihombe', 'tasiilaq', 'barrow', 'broome', 'castro', 'sambava', 'east london', 'vaini', 'half moon bay', 'chunskiy', 'tigil', 'dunedin', 'tuktoyaktuk', 'mys shmidta', 'harrison'], ['chumikan', 'lincoln', 'grindavik', 'pevek', 'columbus', 'vysokogornyy', 'bin qirdan', 'lagoa', 'kathu', 'balsas', 'waconia', 'miracema do tocantins', 'yeppoon', 'victor harbor', 'donskoye', 'coihaique', 'cidreira', 'arraial do cabo', 'wonthaggi', 'kyzyl-suu', 'saulkrasti', 'samalaeulu', 'demyansk', 'leeston', 'algiers', 'lancaster', 'hambantota', 'nouadhibou', 'tondano', 'geraldton', 'khormuj', 'butaritari', 'airai', 'kavieng', 'hervey bay', 'uray', 'alice springs', 'sao jose da coroa grande', 'samarai', 'bengkulu', 'gat', 'vardo', 'vao', 'omsukchan', 'san juan', 'sumisip', 'mar del plata', 'hofn', 'qaqortoq', 'rauma'], ['kruisfontein', 'havelock', 'oranjemund', 'sorong', 'balabac', 'kaduqli', 'kindu', 'durban', 'san cristobal', 'te anau', 'nedjo', 'catarman', 'upernavik', 'trincomalee', 'culaman', 'nanortalik', 'lianzhou', 'sinnamary', 'saleaula', 'umm lajj', 'homer', 'inongo', 'paita', 'nipawin', 'manokwari', 'grand gaube', 'camopi', 'coromandel', 'bonfim', 'ostrovnoy', 'hualmay', 'ziway', 'ust-tsilma', 'minden', 'vanavara', 'zirandaro', 'mayumba', 'xuddur', 'pisco', 'safranbolu', 'bay village', 'cayenne', 'hirara', 'padang', 'provideniya', 'asau', 'souillac', 'praia', 'itaituba', 'komsomolskiy'], ['halalo', 'mizan teferi', 'selenginsk', 'togur', 'nizhniy baskunchak', 'coronado', 'cascais', 'dingle', 'dikson', 'sorland', 'naze', 'victoria', 'isla vista', 'hasaki', 'isangel', 'bambous virieux', 'voh', 'jibuti', 'paamiut', 'ipixuna', 'hohhot', 'axim', 'viedma', 'campo de criptana', 'bjornevatn', 'kariba', 'santona', 'usinsk', 'astana', 'balykshi', 'labuhan', 'port lincoln', 'glenwood springs', 'oktyabrskoye', 'ligayan', 'krasnogorskoye', 'saint-philippe', 'springdale', 'moen', 'saint george', 'umzimvubu', 'pichucalco', 'banda aceh', 'asbury park', 'port augusta', 'vila franca do campo', 'nikologory', 'flinders', 'bat khela', 'kawambwa'], ['poum', 'altay', 'eyl', 'mangan', 'mafinga', 'fortuna', 'mikun', 'san policarpo', 'kanel', 'tarudant', 'kayerkan', 'krasnovishersk', 'davila', 'nuuk', 'les cayes', 'kongolo', 'suzaka', 'pinheiro machado', 'madimba', 'kiama', 'dickinson', 'ahipara', 'tautira', 'ilulissat', 'port keats', 'marsh harbour', 'contamana', 'port hawkesbury', 'merauke', 'churapcha', 'chivasso', 'cerritos', 'kiunga', 'walvis bay', 'ocos', 'richards bay', 'markova', 'tiksi', 'lanigan', 'metro', 'kalynivka', 'dudinka', 'kodiak', 'zeya', 'puerto baquerizo moreno', 'gizo', 'khasan', 'kahului', 'saint-francois', 'oyem'], ['luderitz', 'ngukurr', 'tual', 'san carlos de bariloche', 'baykit', 'abu samrah', 'erenhot', 'filingue', 'yulara', 'palmer', 'verkhoyansk', 'kananga', 'bonavista', 'son en breugel', 'khash', 'sao paulo de olivenca', 'rawannawi', 'katobu', 'westport', 'talcahuano', 'shache', 'fairbanks', 'havre-saint-pierre', 'tigzirt', 'aklavik', 'lata', 'gonyu', 'yangambi', 'atar', 'brahmapuri', 'kushmurun', 'jiddah', 'zhigalovo', 'phangnga', 'coquimbo', 'illela', 'prigorodnyy', 'arman', 'pasighat', 'santiago', 'port hedland', 'cabra', 'ust-nera', 'kamaishi', 'port blair', 'sungairaya', 'dwarka', 'chengde', 'mayahi', 'kozhva'], ['maniitsoq', 'najran', 'tabiauea', 'great yarmouth', 'hamilton', 'torbay', 'jacareacanga', 'pimenta bueno', 'marcala', 'kununurra', 'kuandian', 'new ross', 'fort nelson', 'kuche', 'ler', 'olutanga', 'gaogou', 'lompoc', 'keta', 'mutis', 'lashio', 'toora-khem', 'barbar', 'momignies', 'basco', 'ambodifototra', 'igbo ora', 'samoded', 'la ronge', 'toliary', 'sampit', 'yagodnoye', 'college', 'zhezkazgan', 'cabedelo', 'tukrah', 'dali', 'lethem', 'belmonte', 'manzhouli', 'capinota', 'anadyr', 'tianpeng', 'abalak', 'corralillo', 'rajmahal', 'kerki', 'bayir', 'itarema', 'rincon'], ['sept-iles', 'gweta', 'avera', 'takaka', 'kampong thum', 'tessalit', 'alexandria', 'rio gallegos', 'bundaberg', 'buchanan', 'kemijarvi', 'orasac', 'emerald', 'lichinga', 'sakaiminato', 'mount darwin', 'semenivka', 'khanpur', 'tilichiki', 'svetlogorsk', 'hami', 'zhigansk', 'virginia beach', 'korla', 'mackay', 'mandalgovi', 'piacabucu', 'muisne', 'lakes entrance', 'punta', 'beira', 'taltal', 'shieli', 'srednekolymsk', 'ginir', 'uruguaiana', 'moron', 'tumannyy', 'laem sing', 'cikupa', 'ketchikan', 'chokurdakh', 'seoul', 'simplicio mendes', 'nantucket', 'lieksa', 'mopipi', 'kortkeros', 'tura', 'port hardy'], ['gondal', 'tabarqah', 'fujin', 'vicksburg', 'tortosa', 'camocim', 'republic', 'merrill', 'sisimiut', 'qui nhon', 'hashtrud', 'praia da vitoria', 'la rioja', 'vestmannaeyjar', 'alihe', 'yazman', 'la asuncion', 'nabire', 'itoman', 'castle bruce', 'cerrik', 'mount gambier', 'puerto madero', 'yakeshi', 'louisbourg', 'yenagoa', 'ratnagiri', 'nishihara', 'tandil', 'ust-kulom', 'ankang', 'port-gentil', 'tommot', 'jalu', 'tak bai', 'niquero', 'kihei', 'harper', 'alofi', 'tateyama', 'potiskum', 'sao joao da barra', 'nenjiang', 'lasa', 'kirakira', 'mabay', 'faya', 'banyo', 'klaksvik', 'honningsvag'], ['san lawrenz', 'yar-sale', 'baie-comeau', 'klyuchi', 'pringsewu', 'elizabeth city', 'kavaratti', 'barahona', 'yatou', 'bac lieu', 'kidal', 'uvat', 'tabou', 'kandrian', 'zhangye', 'quesnel', 'karaul', 'nacala', 'sandwick', 'inirida', 'ayer molek', 'scarborough', 'makakilo city', 'ballina', 'xining', 'nadapuram', 'kuusamo', 'razam', 'yarim', 'the valley', 'beloha', 'jumla', 'palabuhanratu', 'knyaze-volkonskoye', 'millinocket', 'tasbuget', 'port macquarie', 'kangaatsiaq', 'petukhovo', 'igarka', 'raga', 'palaikastron', 'vedaranniyam', 'natal', 'huarmey', 'rawson', 'lewiston', 'skagastrond', 'mapua', 'rey bouba'], ['hokitika', 'warqla', 'new waterford', 'meulaboh', 'lazaro cardenas', 'zolotinka', 'puerto carreno', 'los llanos de aridane', 'tari', 'adrar', 'beyneu', 'marawi', 'obera', 'san joaquin', 'yaring', 'samusu', 'wanning', 'mao', 'berbera', 'chapais', 'wulanhaote', 'laguna', 'barcarena', 'okato', 'xucheng', 'haines junction']]\n"
     ]
    }
   ],
   "source": [
    "# Divide the cities list into groups\n",
    "Inputt = iter(cities)\n",
    "\n",
    "length_to_split = [50, 50, 50, 50, 50, 50, 50, 50, 50, 50, 50, 50, 26]\n",
    "city_split = [list(islice(Inputt, elem))\n",
    "                 for elem in length_to_split]\n",
    "\n",
    "print(city_split)"
   ]
  },
  {
   "cell_type": "code",
   "execution_count": 12,
   "metadata": {},
   "outputs": [
    {
     "name": "stdout",
     "output_type": "stream",
     "text": [
      "['ushuaia', 'guerrero negro', 'menongue', 'hobart', 'rikitea', 'okhotsk', 'cherskiy', 'cabo san lucas', 'mahebourg', 'nizwa', 'salalah', 'berlevag', 'hilo', 'takoradi', 'georgetown', 'roald', 'trinidad', 'cape town', 'svetlaya', 'albany', 'goderich', 'khatanga', 'narsaq', 'saskylakh', 'jamestown', 'lorengau', 'grand river south east', 'qaanaaq', 'ambilobe', 'tuatapere', 'margate', 'svetlyy', 'kaitangata', 'ferkessedougou', 'atuona', 'lolua', 'talnakh', 'san patricio', 'carnarvon', 'zhongshu']\n"
     ]
    }
   ],
   "source": [
    "goobis = list(islice(cities,40))\n",
    "print(goobis)"
   ]
  },
  {
   "cell_type": "code",
   "execution_count": 28,
   "metadata": {},
   "outputs": [],
   "source": [
    "from datetime import datetime\n",
    "from datetime import date"
   ]
  },
  {
   "cell_type": "code",
   "execution_count": 35,
   "metadata": {},
   "outputs": [
    {
     "name": "stdout",
     "output_type": "stream",
     "text": [
      "2020-03-14\n",
      "03/14/20\n"
     ]
    }
   ],
   "source": [
    "# Set date\n",
    "timestamp = 1584243389\n",
    "data_date = date.fromtimestamp(1584243389)\n",
    "formatted_date = data_date.strftime(\"%m/%d/%y\")\n",
    "\n",
    "print(converted)\n",
    "print(formatted_date)"
   ]
  },
  {
   "cell_type": "code",
   "execution_count": null,
   "metadata": {},
   "outputs": [],
   "source": []
  }
 ],
 "metadata": {
  "kernelspec": {
   "display_name": "Python 3",
   "language": "python",
   "name": "python3"
  },
  "language_info": {
   "codemirror_mode": {
    "name": "ipython",
    "version": 3
   },
   "file_extension": ".py",
   "mimetype": "text/x-python",
   "name": "python",
   "nbconvert_exporter": "python",
   "pygments_lexer": "ipython3",
   "version": "3.7.1"
  }
 },
 "nbformat": 4,
 "nbformat_minor": 2
}
