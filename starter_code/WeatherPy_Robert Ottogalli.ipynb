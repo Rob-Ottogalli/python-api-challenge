{
 "cells": [
  {
   "cell_type": "markdown",
   "metadata": {},
   "source": [
    "# WeatherPy\n",
    "----\n",
    "\n",
    "#### Note\n",
    "* Instructions have been included for each segment. You do not have to follow them exactly, but they are included to help you think through the steps."
   ]
  },
  {
   "cell_type": "code",
   "execution_count": 1,
   "metadata": {
    "scrolled": true
   },
   "outputs": [],
   "source": [
    "# Dependencies and Setup\n",
    "import matplotlib.pyplot as plt\n",
    "import pandas as pd\n",
    "import numpy as np\n",
    "import requests\n",
    "import time\n",
    "import json\n",
    "from scipy.stats import linregress\n",
    "\n",
    "# Import API key\n",
    "from api_keys import weather_api_key\n",
    "\n",
    "# Incorporated citipy to determine city based on latitude and longitude\n",
    "from citipy import citipy\n",
    "\n",
    "# Output File (CSV)\n",
    "output_data_file = \"output_data/cities.csv\"\n",
    "\n",
    "# Range of latitudes and longitudes\n",
    "lat_range = (-90, 90)\n",
    "lng_range = (-180, 180)"
   ]
  },
  {
   "cell_type": "markdown",
   "metadata": {},
   "source": [
    "## Generate Cities List"
   ]
  },
  {
   "cell_type": "code",
   "execution_count": 2,
   "metadata": {},
   "outputs": [
    {
     "name": "stdout",
     "output_type": "stream",
     "text": [
      "['amderma', 'severo-kurilsk', 'kapaa', 'bambous virieux', 'punta arenas', 'hilo', 'jamestown', 'nishihara', 'namibe', 'nagornyy', 'port elizabeth', 'sao filipe', 'castro', 'sioux lookout', 'saint-augustin', 'nioro', 'hermanus', 'atuona', 'saint-pierre', 'port alfred', 'vaitupu', 'bell ville', 'port blair', 'bluff', 'isangel', 'airai', 'bengkulu', 'new norfolk', 'bredasdorp', 'poum', 'lebu', 'ushuaia', 'arman', 'rikitea', 'nyurba', 'kaitangata', 'touros', 'barrow', 'killarney', 'illoqqortoormiut', 'avera', 'mataura', 'sola', 'sinjah', 'dikson', 'puerto suarez', 'busselton', 'carnarvon', 'mweka', 'tsihombe', 'gweta', 'meyungs', 'tazovskiy', 'guerrero negro', 'chuy', 'thompson', 'ukiah', 'nizhneyansk', 'kotlyarevskaya', 'alekseyevka', 'groningen', 'sisimiut', 'anadyr', 'komsomolskiy', 'ayan', 'severnyy', 'alvorada', 'vaini', 'araioses', 'neyshabur', 'nyaunglebin', 'sataua', 'kruisfontein', 'chicama', 'red bluff', 'altamont', 'cabo san lucas', 'buala', 'flin flon', 'arraial do cabo', 'husavik', 'lazaro cardenas', 'marawi', 'necochea', 'taolanaro', 'avarua', 'mar del plata', 'quelimane', 'poronaysk', 'pundaguitan', 'codrington', 'imbituba', 'vila', 'sao joao da barra', 'tadine', 'thinadhoo', 'inhambane', 'torbay', 'soyo', 'albany', 'fort nelson', 'yellowknife', 'okakarara', 'fare', 'sucua', 'faanui', 'meulaboh', 'geraldton', 'jieshi', 'toungoo', 'sterling', 'teluknaga', 'nanortalik', 'lagoa', 'cape town', 'zeya', 'vao', 'barentsburg', 'yeppoon', 'tautira', 'nome', 'banjar', 'khatanga', 'tilichiki', 'pospelikha', 'kaseda', 'wawa', 'ola', 'qaanaaq', 'san jose', 'bubaque', 'rio grande', 'kodiak', 'yian', 'grand river south east', 'ponta do sol', 'paucartambo', 'abha', 'mogadishu', 'hasaki', 'butaritari', 'cameta', 'ust-maya', 'kavieng', 'leningradskiy', 'baruun-urt', 'muros', 'la carlota', 'kahului', 'maldonado', 'dryden', 'balgazyn', 'myaundzha', 'pevek', 'puerto ayora', 'belushya guba', 'kenai', 'prince george', 'hobart', 'kulhudhuffushi', 'san patricio', 'flinders', 'santa vitoria do palmar', 'ende', 'esso', 'porto novo', 'mafeteng', 'tongchuan', 'georgetown', 'turukhansk', 'kloulklubed', 'vila velha', 'te anau', 'bahia honda', 'valdez', 'mahebourg', 'urusha', 'tuktoyaktuk', 'abu dhabi', 'kamenskoye', 'nikolskoye', 'tiksi', 'bethel', 'pisco', 'zhanatas', 'nam tha', 'galiwinku', 'atambua', 'itarema', 'siuna', 'saskylakh', 'rapid valley', 'kavaratti', 'smolenka', 'salekhard', 'baguanos', 'ketchenery', 'mys shmidta', 'axim', 'belyy yar', 'iskitim', 'jalingo', 'nuuk', 'ostrovnoy', 'isilkul', 'katsuura', 'tuatapere', 'yumen', 'opuwo', 'hegang', 'adrar', 'saint anthony', 'longyearbyen', 'dir', 'amazar', 'harper', 'doka', 'tamiahua', 'lensk', 'vizinga', 'faya', 'bargal', 'palabuhanratu', 'ajdabiya', 'presidente olegario', 'upernavik', 'makurdi', 'tasiilaq', 'san carlos de bariloche', 'banda aceh', 'maumere', 'fortuna', 'asau', 'la ronge', 'tshikapa', 'houma', 'provideniya', 'attawapiskat', 'verkhoyansk', 'henties bay', 'clyde river', 'mitzic', 'anapskaya', 'souillac', 'bolungarvik', 'malanje', 'ostend', 'karratha', 'ribeira grande', 'medicine hat', 'veraval', 'saint-philippe', 'taywarah', 'challapata', 'lakatoro', 'pavilosta', 'utiroa', 'stafford', 'constitucion', 'antofagasta', 'road town', 'gao', 'kamaishi', 'tulun', 'mancio lima', 'hithadhoo', 'katobu', 'victoria', 'tara', 'erzurum', 'lisala', 'rawson', 'ariquemes', 'buchanan', 'dzhusaly', 'felidhoo', 'narsaq', 'deqing', 'tiarei', 'richards bay', 'chokurdakh', 'tucuma', 'yulara', 'saint george', 'murdochville', 'cherskiy', 'abnub', 'erdaojiang', 'kieta', 'katangli', 'paamiut', 'westport', 'makakilo city', 'baherden', 'dakar', 'luocheng', 'labuan', 'bugembe', 'quatre cocos', 'coquimbo', 'kenora', 'poltava', 'aden', 'sidney', 'koslan', 'derzhavinsk', 'coahuayana', 'atasu', 'aklavik', 'caravelas', 'ayr', 'fairbanks', 'ornskoldsvik', 'tankhoy', 'east london', 'tucuman', 'townsville', 'mackenzie', 'bilma', 'morondava', 'chutove', 'ilinskiy', 'aswan', 'aliaga', 'kinston', 'klaksvik', 'komsomolets', 'ashtian', 'vysokogornyy', 'portland', 'maniitsoq', 'marshall', 'lorengau', 'pacific grove', 'louisbourg', 'boyabat', 'chikoy', 'inirida', 'dicabisagan', 'port keats', 'betare oya', 'zhigansk', 'palmer', 'general roca', 'finnsnes', 'challans', 'bayan', 'tumannyy', 'dingle', 'egvekinot', 'fonte boa', 'khandyga', 'bathsheba', 'grindavik', 'nago', 'ancud', 'puerto penasco', 'lavrentiya', 'saint-francois', 'dano', 'chernushka', 'sorong', 'adolfo lopez mateos', 'bayonet point', 'kaihua', 'safwah', 'santa maria', 'telenesti', 'bintulu', 'puerto rondon', 'hambantota', 'mahanje', 'byron bay', 'lodwar', 'dunedin', 'rock sound', 'haimen', 'kondinskoye', 'saldanha', 'aflu', 'mount gambier', 'seydisehir', 'luau', 'urrao', 'singapore', 'debre sina', 'chernyshevskiy', 'banfora', 'tarakan', 'wonthaggi', 'trento', 'amapa', 'merauke', 'miranda', 'zonguldak', 'basco', 'gravdal', 'norsup', 'cooma', 'sitka', 'katha', 'praia da vitoria', 'kalmunai', 'cortez', 'salalah', 'bjorkelangen', 'ambovombe', 'loiza', 'auki', 'east bethel', 'salinopolis', 'newport', 'qabaqcol', 'waipawa', 'vanino', 'juegang', 'hofn', 'urdzhar', 'hobyo', 'ondjiva', 'bongandanga', 'qaqortoq', 'kyle of lochalsh', 'pervomayskiy', 'corn island', 'yialos', 'caazapa', 'ossora', 'panubigan', 'san borja', 'port augusta', 'izumo', 'dinsor', 'korla', 'astoria', 'ahtopol', 'bonthe', 'ucluelet', 'abalak', 'hunza', 'teya', 'tromso', 'maloy', 'key largo', 'temaraia', 'kingsville', 'sosua', 'sjovegan', 'samaipata', 'forssa', 'turbat', 'iqaluit', 'sentyabrskiy', 'inongo', 'sao jose da coroa grande', 'itoman', 'lolua', 'port-gentil', 'harrisonville', 'torres', 'alice springs', 'dubbo', 'puerto escondido', 'marzuq', 'bunesti', 'benin', 'chagda', 'sept-iles', 'bandarbeyla', 'moose factory', 'ixtapa', 'hamilton', 'duz', 'mastung', 'vila franca do campo', 'acarau', 'oussouye', 'naftah', 'penzance', 'port hardy', 'olafsvik', 'eirunepe', 'scarborough', 'harda', 'marsh harbour', 'buta', 'atar', 'huarmey', 'bontang', 'norman wells', 'saleaula', 'san vicente', 'madimba', 'iskateley', 'kudahuvadhoo', 'kazalinsk', 'elat', 'san antonio', 'cabatuan', 'sayyan', 'acapulco', 'granville', 'warqla', 'rudbar', 'bulawayo', 'los llanos de aridane', 'rodrigues alves', 'abu kamal', 'dapaong', 'alice town', 'tutoia', 'pedernales', 'burns lake', 'joshimath', 'qasigiannguit', 'papara', 'ust-kulom', 'aktau', 'almeirim', 'kuryk', 'iwanai', 'assiniboia', 'luderitz', 'noumea', 'yarmouth', 'yaring', 'labuhan', 'khasan', 'san francisco', 'leeton', 'pangai', 'takoradi', 'jonkoping', 'santo domingo', 'nalut', 'magadi', 'honningsvag', 'loralai', 'wasilla', 'churapcha', 'sitrah', 'cayenne', 'gamba', 'tokur', 'nuevitas', 'dawson', 'ust-kuyga', 'tarudant', 'shahr-e babak', 'san isidro', 'graciano sanchez', 'weymouth', 'half moon bay', 'sakakah', 'taoudenni', 'waxahachie', 'mino', 'marcona', 'simao', 'rundu', 'lompoc', 'almazar', 'tarko-sale', 'santa cruz', 'do gonbadan', 'yantal', 'mundgod', 'prejmer', 'lielvarde', 'ilulissat', 'batemans bay', 'vestmannaeyjar', 'bria', 'joacaba', 'methoni', 'beringovskiy', 'linden', 'pozo colorado', 'sambava', 'sibolga', 'lata', 'huilong', 'kolosovka', 'vardo', 'mokobeng', 'bataipora', 'vozrozhdeniye', 'indian head', 'pelotas', 'nadym', 'okhotsk', 'mareeba', 'kununurra', 'tabas', 'sistranda', 'pierre', 'lazarev', 'novo oriente', 'sindor', 'bakchar', 'makat', 'alizai', 'naze', 'yerbogachen', 'kalianget', 'bar harbor', 'garoua boulai', 'mattru', 'vila do maio', 'filingue', 'kearney', 'carahue', 'ust-ishim', 'aras', 'vanimo', 'viterbo', 'tsogni', 'ponta delgada']\n"
     ]
    }
   ],
   "source": [
    "# List for holding lat_lngs and cities\n",
    "lat_lngs = []\n",
    "cities = []\n",
    "\n",
    "# Create a set of random lat and lng combinations\n",
    "lats = np.random.uniform(low=-90.000, high=90.000, size=1500)\n",
    "lngs = np.random.uniform(low=-180.000, high=180.000, size=1500)\n",
    "lat_lngs = zip(lats, lngs)\n",
    "\n",
    "# Identify nearest city for each lat, lng combination\n",
    "for lat_lng in lat_lngs:\n",
    "    city = citipy.nearest_city(lat_lng[0], lat_lng[1]).city_name\n",
    "    \n",
    "    # If the city is unique, then add it to a our cities list\n",
    "    if city not in cities:\n",
    "        cities.append(city)\n",
    "\n",
    "# Print the city count to confirm sufficient count\n",
    "len(cities)\n",
    "print(cities)"
   ]
  },
  {
   "cell_type": "markdown",
   "metadata": {},
   "source": [
    "### Perform API Calls\n",
    "* Perform a weather check on each city using a series of successive API calls.\n",
    "* Include a print log of each city as it'sbeing processed (with the city number and city name).\n"
   ]
  },
  {
   "cell_type": "code",
   "execution_count": 40,
   "metadata": {},
   "outputs": [
    {
     "name": "stdout",
     "output_type": "stream",
     "text": [
      "{\"Severo-Kuril'sk\": [\"Severo-Kuril'sk\", 33, 'RU', 1584234285, 76, 50.68, 156.12, 20.98, 6.64], 'Kapaa': ['Kapaa', 1, 'US', 1584234462, 57, 22.08, -159.32, 80.6, 16.11], 'Bambous Virieux': ['Bambous Virieux', 40, 'MU', 1584234220, 88, -20.34, 57.76, 77, 2.24], 'Punta Arenas': ['Punta Arenas', 100, 'CL', 1584234465, 76, -53.15, -70.92, 57, 25.28]}\n"
     ]
    }
   ],
   "source": [
    "# Create a dictionary to hold each city name as a key\n",
    "# and a list of city weather data as values\n",
    "\n",
    "all_cities_weather = {}\n",
    "\n",
    "\n",
    "# Loop through the list of cities and append them to the \n",
    "for city in cities[1:5]:\n",
    "\n",
    "    # Create a list to hold weather data for a single city\n",
    "    city_weather = []\n",
    "    city_weather_dict = {}\n",
    "\n",
    "    # Save config information\n",
    "    url = \"http://api.openweathermap.org/data/2.5/weather?\"\n",
    "\n",
    "    # Build query URL\n",
    "    query_url = f\"{url}appid={weather_api_key}&q={city}&units=Imperial\"\n",
    "\n",
    "    # Read JSON data\n",
    "    weather_response = requests.get(query_url)\n",
    "    weather_json = weather_response.json()\n",
    "\n",
    "    # Set variables to hold relevant data\n",
    "    city_name = weather_json[\"name\"]\n",
    "    lat = weather_json[\"coord\"][\"lat\"]\n",
    "    lon = weather_json[\"coord\"][\"lon\"]\n",
    "    max_temp = weather_json[\"main\"][\"temp_max\"]\n",
    "    cloud = weather_json[\"clouds\"][\"all\"]\n",
    "    wind_speed = weather_json[\"wind\"][\"speed\"]\n",
    "    humidity = weather_json[\"main\"][\"humidity\"]\n",
    "    date = weather_json[\"dt\"]\n",
    "    id_code = weather_json[\"id\"]\n",
    "    country = weather_json[\"sys\"][\"country\"]\n",
    "\n",
    "    # Append variables to list\n",
    "    city_weather.append(city_name)\n",
    "    city_weather.append(cloud)\n",
    "    city_weather.append(country)\n",
    "    city_weather.append(date)\n",
    "    city_weather.append(humidity)\n",
    "    city_weather.append(lat)\n",
    "    city_weather.append(lon)\n",
    "    city_weather.append(max_temp)\n",
    "    city_weather.append(wind_speed)\n",
    "\n",
    "    # Update all_cities_weather dictionary to include data for that city\n",
    "    all_cities_weather.update({city_name:city_weather})\n",
    "\n",
    "    # Delay 1.5 seconds between API calls\n",
    "    time.sleep(1.5)\n",
    "# try:\n",
    "# except KeyError:\n",
    "#     print(\"City not found. Skipping...\")\n",
    "        \n",
    "print(all_cities_weather)\n",
    "    \n"
   ]
  },
  {
   "cell_type": "code",
   "execution_count": 6,
   "metadata": {
    "scrolled": true
   },
   "outputs": [
    {
     "name": "stdout",
     "output_type": "stream",
     "text": [
      "{\n",
      "    \"coord\": {\n",
      "        \"lon\": -70.92,\n",
      "        \"lat\": -53.15\n",
      "    },\n",
      "    \"weather\": [\n",
      "        {\n",
      "            \"id\": 500,\n",
      "            \"main\": \"Rain\",\n",
      "            \"description\": \"light rain\",\n",
      "            \"icon\": \"10n\"\n",
      "        }\n",
      "    ],\n",
      "    \"base\": \"stations\",\n",
      "    \"main\": {\n",
      "        \"temp\": 55.22,\n",
      "        \"feels_like\": 40.48,\n",
      "        \"temp_min\": 55,\n",
      "        \"temp_max\": 55.4,\n",
      "        \"pressure\": 1005,\n",
      "        \"humidity\": 76\n",
      "    },\n",
      "    \"visibility\": 10000,\n",
      "    \"wind\": {\n",
      "        \"speed\": 25.28,\n",
      "        \"deg\": 300\n",
      "    },\n",
      "    \"rain\": {\n",
      "        \"3h\": 0.44\n",
      "    },\n",
      "    \"clouds\": {\n",
      "        \"all\": 100\n",
      "    },\n",
      "    \"dt\": 1584232502,\n",
      "    \"sys\": {\n",
      "        \"type\": 1,\n",
      "        \"id\": 8487,\n",
      "        \"country\": \"CL\",\n",
      "        \"sunrise\": 1584182106,\n",
      "        \"sunset\": 1584227429\n",
      "    },\n",
      "    \"timezone\": -10800,\n",
      "    \"id\": 3874787,\n",
      "    \"name\": \"Punta Arenas\",\n",
      "    \"cod\": 200\n",
      "}\n"
     ]
    }
   ],
   "source": [
    "print(json.dumps(weather_json, indent=4))"
   ]
  },
  {
   "cell_type": "code",
   "execution_count": null,
   "metadata": {},
   "outputs": [],
   "source": [
    "\n"
   ]
  },
  {
   "cell_type": "markdown",
   "metadata": {},
   "source": [
    "### Convert Raw Data to DataFrame\n",
    "* Export the city data into a .csv.\n",
    "* Display the DataFrame"
   ]
  },
  {
   "cell_type": "code",
   "execution_count": 37,
   "metadata": {},
   "outputs": [
    {
     "data": {
      "text/html": [
       "<div>\n",
       "<style scoped>\n",
       "    .dataframe tbody tr th:only-of-type {\n",
       "        vertical-align: middle;\n",
       "    }\n",
       "\n",
       "    .dataframe tbody tr th {\n",
       "        vertical-align: top;\n",
       "    }\n",
       "\n",
       "    .dataframe thead th {\n",
       "        text-align: right;\n",
       "    }\n",
       "</style>\n",
       "<table border=\"1\" class=\"dataframe\">\n",
       "  <thead>\n",
       "    <tr style=\"text-align: right;\">\n",
       "      <th></th>\n",
       "      <th>City</th>\n",
       "      <th>Cloudiness</th>\n",
       "      <th>Country</th>\n",
       "      <th>Date</th>\n",
       "      <th>Humidity</th>\n",
       "      <th>Lat</th>\n",
       "      <th>Lng</th>\n",
       "      <th>Max Temp</th>\n",
       "      <th>Wind Speed</th>\n",
       "    </tr>\n",
       "  </thead>\n",
       "  <tbody>\n",
       "    <tr>\n",
       "      <th>0</th>\n",
       "      <td>Severo-Kuril'sk</td>\n",
       "      <td>33</td>\n",
       "      <td>RU</td>\n",
       "      <td>1584234285</td>\n",
       "      <td>76</td>\n",
       "      <td>50.68</td>\n",
       "      <td>156.12</td>\n",
       "      <td>20.98</td>\n",
       "      <td>6.64</td>\n",
       "    </tr>\n",
       "    <tr>\n",
       "      <th>1</th>\n",
       "      <td>Kapaa</td>\n",
       "      <td>1</td>\n",
       "      <td>US</td>\n",
       "      <td>1584234462</td>\n",
       "      <td>57</td>\n",
       "      <td>22.08</td>\n",
       "      <td>-159.32</td>\n",
       "      <td>80.60</td>\n",
       "      <td>16.11</td>\n",
       "    </tr>\n",
       "    <tr>\n",
       "      <th>2</th>\n",
       "      <td>Bambous Virieux</td>\n",
       "      <td>40</td>\n",
       "      <td>MU</td>\n",
       "      <td>1584234220</td>\n",
       "      <td>88</td>\n",
       "      <td>-20.34</td>\n",
       "      <td>57.76</td>\n",
       "      <td>77.00</td>\n",
       "      <td>2.24</td>\n",
       "    </tr>\n",
       "    <tr>\n",
       "      <th>3</th>\n",
       "      <td>Punta Arenas</td>\n",
       "      <td>100</td>\n",
       "      <td>CL</td>\n",
       "      <td>1584234465</td>\n",
       "      <td>76</td>\n",
       "      <td>-53.15</td>\n",
       "      <td>-70.92</td>\n",
       "      <td>57.00</td>\n",
       "      <td>25.28</td>\n",
       "    </tr>\n",
       "  </tbody>\n",
       "</table>\n",
       "</div>"
      ],
      "text/plain": [
       "              City  Cloudiness Country        Date  Humidity    Lat     Lng  \\\n",
       "0  Severo-Kuril'sk          33      RU  1584234285        76  50.68  156.12   \n",
       "1            Kapaa           1      US  1584234462        57  22.08 -159.32   \n",
       "2  Bambous Virieux          40      MU  1584234220        88 -20.34   57.76   \n",
       "3     Punta Arenas         100      CL  1584234465        76 -53.15  -70.92   \n",
       "\n",
       "   Max Temp  Wind Speed  \n",
       "0     20.98        6.64  \n",
       "1     80.60       16.11  \n",
       "2     77.00        2.24  \n",
       "3     57.00       25.28  "
      ]
     },
     "execution_count": 37,
     "metadata": {},
     "output_type": "execute_result"
    }
   ],
   "source": [
    "Summary = pd.DataFrame.from_dict(all_cities_weather, orient=\"index\")\n",
    "\n",
    "Summary = Summary.rename(columns=\n",
    "                        {0:\"City\",\n",
    "                        1:\"Cloudiness\",\n",
    "                        2:\"Country\",\n",
    "                        3:\"Date\",\n",
    "                        4:\"Humidity\",\n",
    "                        5:\"Lat\",\n",
    "                        6:\"Lng\",\n",
    "                        7:\"Max Temp\",\n",
    "                        8:\"Wind Speed\"}\n",
    "                        )\n",
    "Summary\n",
    "Summary.reset_index(drop=True)"
   ]
  },
  {
   "cell_type": "code",
   "execution_count": null,
   "metadata": {},
   "outputs": [],
   "source": []
  },
  {
   "cell_type": "code",
   "execution_count": null,
   "metadata": {},
   "outputs": [],
   "source": []
  },
  {
   "cell_type": "markdown",
   "metadata": {},
   "source": [
    "### Plotting the Data\n",
    "* Use proper labeling of the plots using plot titles (including date of analysis) and axes labels.\n",
    "* Save the plotted figures as .pngs."
   ]
  },
  {
   "cell_type": "markdown",
   "metadata": {},
   "source": [
    "#### Latitude vs. Temperature Plot"
   ]
  },
  {
   "cell_type": "code",
   "execution_count": null,
   "metadata": {
    "scrolled": true
   },
   "outputs": [],
   "source": []
  },
  {
   "cell_type": "markdown",
   "metadata": {},
   "source": [
    "#### Latitude vs. Humidity Plot"
   ]
  },
  {
   "cell_type": "code",
   "execution_count": null,
   "metadata": {},
   "outputs": [],
   "source": []
  },
  {
   "cell_type": "markdown",
   "metadata": {},
   "source": [
    "#### Latitude vs. Cloudiness Plot"
   ]
  },
  {
   "cell_type": "code",
   "execution_count": null,
   "metadata": {},
   "outputs": [],
   "source": []
  },
  {
   "cell_type": "markdown",
   "metadata": {},
   "source": [
    "#### Latitude vs. Wind Speed Plot"
   ]
  },
  {
   "cell_type": "code",
   "execution_count": null,
   "metadata": {},
   "outputs": [],
   "source": []
  },
  {
   "cell_type": "markdown",
   "metadata": {},
   "source": [
    "## Linear Regression"
   ]
  },
  {
   "cell_type": "code",
   "execution_count": null,
   "metadata": {},
   "outputs": [],
   "source": [
    "# OPTIONAL: Create a function to create Linear Regression plots\n"
   ]
  },
  {
   "cell_type": "code",
   "execution_count": null,
   "metadata": {},
   "outputs": [],
   "source": [
    "# Create Northern and Southern Hemisphere DataFrames\n"
   ]
  },
  {
   "cell_type": "markdown",
   "metadata": {},
   "source": [
    "####  Northern Hemisphere - Max Temp vs. Latitude Linear Regression"
   ]
  },
  {
   "cell_type": "code",
   "execution_count": null,
   "metadata": {},
   "outputs": [],
   "source": []
  },
  {
   "cell_type": "markdown",
   "metadata": {},
   "source": [
    "####  Southern Hemisphere - Max Temp vs. Latitude Linear Regression"
   ]
  },
  {
   "cell_type": "code",
   "execution_count": null,
   "metadata": {},
   "outputs": [],
   "source": []
  },
  {
   "cell_type": "markdown",
   "metadata": {},
   "source": [
    "####  Northern Hemisphere - Humidity (%) vs. Latitude Linear Regression"
   ]
  },
  {
   "cell_type": "code",
   "execution_count": null,
   "metadata": {},
   "outputs": [],
   "source": []
  },
  {
   "cell_type": "markdown",
   "metadata": {},
   "source": [
    "####  Southern Hemisphere - Humidity (%) vs. Latitude Linear Regression"
   ]
  },
  {
   "cell_type": "code",
   "execution_count": null,
   "metadata": {},
   "outputs": [],
   "source": []
  },
  {
   "cell_type": "markdown",
   "metadata": {},
   "source": [
    "####  Northern Hemisphere - Cloudiness (%) vs. Latitude Linear Regression"
   ]
  },
  {
   "cell_type": "code",
   "execution_count": null,
   "metadata": {},
   "outputs": [],
   "source": []
  },
  {
   "cell_type": "markdown",
   "metadata": {},
   "source": [
    "####  Southern Hemisphere - Cloudiness (%) vs. Latitude Linear Regression"
   ]
  },
  {
   "cell_type": "code",
   "execution_count": null,
   "metadata": {},
   "outputs": [],
   "source": []
  },
  {
   "cell_type": "markdown",
   "metadata": {},
   "source": [
    "####  Northern Hemisphere - Wind Speed (mph) vs. Latitude Linear Regression"
   ]
  },
  {
   "cell_type": "code",
   "execution_count": null,
   "metadata": {},
   "outputs": [],
   "source": []
  },
  {
   "cell_type": "markdown",
   "metadata": {},
   "source": [
    "####  Southern Hemisphere - Wind Speed (mph) vs. Latitude Linear Regression"
   ]
  },
  {
   "cell_type": "code",
   "execution_count": null,
   "metadata": {},
   "outputs": [],
   "source": []
  },
  {
   "cell_type": "code",
   "execution_count": null,
   "metadata": {},
   "outputs": [],
   "source": []
  }
 ],
 "metadata": {
  "anaconda-cloud": {},
  "kernel_info": {
   "name": "python3"
  },
  "kernelspec": {
   "display_name": "Python 3",
   "language": "python",
   "name": "python3"
  },
  "language_info": {
   "codemirror_mode": {
    "name": "ipython",
    "version": 3
   },
   "file_extension": ".py",
   "mimetype": "text/x-python",
   "name": "python",
   "nbconvert_exporter": "python",
   "pygments_lexer": "ipython3",
   "version": "3.7.1"
  },
  "latex_envs": {
   "LaTeX_envs_menu_present": true,
   "autoclose": false,
   "autocomplete": true,
   "bibliofile": "biblio.bib",
   "cite_by": "apalike",
   "current_citInitial": 1,
   "eqLabelWithNumbers": true,
   "eqNumInitial": 1,
   "hotkeys": {
    "equation": "Ctrl-E",
    "itemize": "Ctrl-I"
   },
   "labels_anchors": false,
   "latex_user_defs": false,
   "report_style_numbering": false,
   "user_envs_cfg": false
  },
  "nteract": {
   "version": "0.12.3"
  }
 },
 "nbformat": 4,
 "nbformat_minor": 2
}
