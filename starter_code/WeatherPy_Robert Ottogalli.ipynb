{
 "cells": [
  {
   "cell_type": "markdown",
   "metadata": {},
   "source": [
    "# WeatherPy\n",
    "----\n",
    "\n",
    "#### Note\n",
    "* Instructions have been included for each segment. You do not have to follow them exactly, but they are included to help you think through the steps."
   ]
  },
  {
   "cell_type": "code",
   "execution_count": 1,
   "metadata": {
    "scrolled": true
   },
   "outputs": [],
   "source": [
    "# Dependencies and Setup\n",
    "import matplotlib.pyplot as plt\n",
    "import pandas as pd\n",
    "import numpy as np\n",
    "import requests\n",
    "import time\n",
    "import json\n",
    "from scipy.stats import linregress\n",
    "from itertools import islice \n",
    "import math\n",
    "\n",
    "# Import API key\n",
    "from api_keys import weather_api_key\n",
    "\n",
    "# Incorporated citipy to determine city based on latitude and longitude\n",
    "from citipy import citipy\n",
    "\n",
    "# Output File (CSV)\n",
    "output_data_file = \"output_data/cities.csv\"\n",
    "\n",
    "# Range of latitudes and longitudes\n",
    "lat_range = (-90, 90)\n",
    "lng_range = (-180, 180)"
   ]
  },
  {
   "cell_type": "markdown",
   "metadata": {},
   "source": [
    "## Generate Cities List"
   ]
  },
  {
   "cell_type": "code",
   "execution_count": 2,
   "metadata": {
    "scrolled": true
   },
   "outputs": [
    {
     "name": "stdout",
     "output_type": "stream",
     "text": [
      "['busselton', 'aklavik', 'bluff', 'klaksvik', 'pangnirtung', 'rikitea', 'hermanus', 'yellowknife', 'vaini', 'priiskovyy', 'castro', 'dikson', 'zhigansk', 'mosjoen', 'thompson', 'souillac', 'xuddur', 'nishihara', 'ushuaia', 'camacha', 'vestmannaeyjar', 'kresttsy', 'tiksi', 'san quintin', 'mataura', 'georgetown', 'mahebourg', 'cayenne', 'rawson', 'tabou', 'khatanga', 'tevaitoa', 'kaeo', 'alofi', 'butaritari', 'pamanukan', 'airai', 'saint-francois', 'mar del plata', 'coquimbo', 'tilichiki', 'yar-sale', 'morondava', 'savinskiy', 'utete', 'chacabuco', 'albany', 'tomatlan', 'punta arenas', 'cape town', 'port blair', 'atuona', 'bambous virieux', 'fairbanks', 'vysokogornyy', 'fortuna', 'xuanhua', 'barrow', 'bethel', 'taolanaro', 'bredasdorp', 'villa oliva', 'longyearbyen', 'cherskiy', 'hilo', 'bereznik', 'bandarbeyla', 'sao filipe', 'rocha', 'upernavik', 'palmer', 'ostrovnoy', 'oxford', 'hami', 'alekseyevsk', 'avarua', 'korla', 'ushtobe', 'sao jose da coroa grande', 'kapaa', 'sagua la grande', 'saint-augustin', 'yulara', 'yuzhno-yeniseyskiy', 'buta', 'surt', 'joplin', 'hobart', 'tasiilaq', 'port alfred', 'cedar city', 'lebu', 'matina', 'athabasca', 'bull savanna', 'aflu', 'xining', 'kachiry', 'chokurdakh', 'matara', 'ilulissat', 'djibo', 'iaciara', 'new norfolk', 'saskylakh', 'kemnay', 'torbay', 'talara', 'aripuana', 'balaipungut', 'bengkulu', 'huarmey', 'kaitangata', 'princeton', 'banda aceh', 'liverpool', 'goure', 'cabo san lucas', 'nizhneyansk', 'san pedro', 'jiayuguan', 'east london', 'luderitz', 'puerto ayora', 'tuktoyaktuk', 'prince rupert', 'samusu', 'svetlyy', 'arraial do cabo', 'honiara', 'sao cristovao', 'paragominas', 'mehamn', 'severo-kurilsk', 'sao joao da barra', 'muli', 'sarkand', 'palabuhanratu', 'ribeira grande', 'ekhabi', 'calama', 'iquitos', 'vaitupu', 'portel', 'saint-philippe', 'dongsheng', 'bereda', 'port elizabeth', 'anadyr', 'desaguadero', 'mpulungu', 'hithadhoo', 'dunedin', 'geraldton', 'miesbach', 'sedelnikovo', 'chiriqui grande', 'deputatskiy', 'qaanaaq', 'namatanai', 'jamestown', 'zimapan', 'muros', 'amderma', 'great yarmouth', 'hamilton', 'norman wells', 'thunder bay', 'adrar', 'las vegas', 'karaidel', 'provideniya', 'kavieng', 'verkhnyaya inta', 'tzucacab', 'narsaq', 'arcachon', 'cascais', 'liptovsky mikulas', 'yelan-koleno', 'bilibino', 'saint george', 'nhulunbuy', 'wainwright', 'ixtapa', 'havoysund', 'tautira', 'alenquer', 'leh', 'channel-port aux basques', 'san juan de la maguana', 'boyuibe', 'touros', 'arrecife', 'marzuq', 'antalaha', 'talnakh', 'iqaluit', 'nedjo', 'aswan', 'pevek', 'brigantine', 'felidhoo', 'cananea', 'saijo', 'sept-iles', 'qaqortoq', 'port macquarie', 'clyde river', 'itarema', 'longyan', 'maceio', 'bay roberts', 'avera', 'sentyabrskiy', 'fredericton', 'demba', 'uyar', 'turukhansk', 'jahrom', 'isangel', 'puerto del rosario', 'barentsburg', 'yeppoon', 'fokino', 'faanui', 'victoria', 'soure', 'saint-pierre', 'songea', 'srednekolymsk', 'cidreira', 'buraydah', 'nikolskoye', 'pyaozerskiy', 'brae', 'batagay', 'kedougou', 'komsomolskiy', 'moree', 'sioux lookout', 'illoqqortoormiut', 'zavodoukovsk', 'urumqi', 'wanaka', 'shingu', 'port said', 'zelenoborsk', 'karratha', 'mount gambier', 'charters towers', 'coihaique', 'sibanicu', 'manica', 'padang', 'camana', 'maryville', 'kultuk', 'ponta do sol', 'kenai', 'boca do acre', 'angoche', 'mislinja', 'san patricio', 'hartlepool', 'lorengau', 'walvis bay', 'kaniama', 'kodiak', 'ancud', 'panjakent', 'orlik', 'rio gallegos', 'quatre cocos', 'vladimir', 'krasnoselkup', 'aginskoye', 'nanortalik', 'temaraia', 'faya', 'kuche', 'meulaboh', 'labuan', 'shache', 'mogadishu', 'moranbah', 'pochutla', 'gat', 'belushya guba', 'toyooka', 'nouadhibou', 'lompoc', 'pisco', 'udachnyy', 'balkanabat', 'aksarka', 'musoma', 'cururupu', 'oyem', 'flagstaff', 'malinovskiy', 'tsihombe', 'beni', 'grand gaube', 'hirara', 'pabna', 'buena vista', 'guerrero negro', 'lasa', 'college', 'kysyl-syr', 'ensley', 'samfya', 'haldibari', 'sitka', 'saleaula', 'bonavista', 'amazar', 'karaul', 'esil', 'carnarvon', 'yavoriv', 'ugoofaaru', 'faridan', 'warqla', 'mys shmidta', 'mount isa', 'ahipara', 'littleton', 'tawnat', 'port-gentil', 'margate', 'hualmay', 'bani', 'te anau', 'cuiluan', 'wanning', 'wattegama', 'marsh harbour', 'terrace bay', 'inuvik', 'uruzgan', 'piacabucu', 'emerald', 'asyut', 'lilongwe', 'ucluelet', 'malanje', 'tumannyy', 'khuzhir', 'warman', 'saldanha', 'puerto ayacucho', 'fuyu', 'port-cartier', 'mackay', 'kruisfontein', 'jaramana', 'sorvag', 'kahului', 'codrington', 'poplar bluff', 'golden', 'tateyama', 'sidney', 'omsukchan', 'almaznyy', 'ulaangom', 'sidmouth', 'selikhino', 'mossendjo', 'halalo', 'tchibanga', 'peniche', 'tasbuget', 'rungata', 'tazmalt', 'kampot', 'weligama', 'palestine', 'aktash', 'kathu', 'shediac', 'atar', 'sungurlu', 'dhidhdhoo', 'saint anthony', 'chaohu', 'tieli', 'soyo', 'grand-santi', 'onda', 'osuna', 'chuy', 'marcona', 'kabalo', 'half moon bay', 'benghazi', 'galeana', 'tahta', 'tuatapere', 'namibe', 'nha trang', 'buala', 'keti bandar', 'shakhtinsk', 'pueblo nuevo', 'goderich', 'tiznit', 'hokitika', 'ha tinh', 'bathsheba', 'ribeira brava', 'hobyo', 'esperance', 'naze', 'ewo', 'saint-leu', 'los llanos de aridane', 'navahrudak', 'gamba', 'shitanjing', 'lewisporte', 'yumen', 'san vicente', 'bustamante', 'de-kastri', 'okhotsk', 'haines junction', 'husavik', 'sakaiminato', 'sivaki', 'gomel', 'northam', 'kavaratti', 'zhob', 'opobo', 'grindavik', 'falam', 'ulstrup', 'jingdezhen', 'iralaya', 'genhe', 'waingapu', 'taylorville', 'san juan', 'thanh hoa', 'begoro', 'masuri', 'kamenka', 'pokrovo-prigorodnoye', 'umzimvubu', 'migori', 'yamada', 'aneho', 'luba', 'jalu', 'matamoros', 'tanggu', 'matagami', 'lamu', 'meyungs', 'melnikovo', 'hailar', 'vila', 'rajauri', 'cockburn town', 'parangan', 'san cristobal', 'dwarka', 'jinchang', 'tura', 'vao', 'ossora', 'moron', 'pangkalanbuun', 'eyl', 'attawapiskat', 'ray', 'monteagudo', 'busia', 'aykhal', 'kasongo-lunda', 'hasaki', 'santa marta', 'santa rosa', 'canyon', 'nyurba', 'mrirt', 'kaka', 'yefira', 'puerto cabello', 'barawe', 'krasnokamensk', 'acapulco', 'solovetskiy', 'bubaque', 'teguldet', 'smolenka', 'vigrestad', 'bogale', 'mpongwe', 'porto feliz', 'tecpan', 'aguililla', 'harboore', 'dingle', 'roura', 'las cruces', 'belaya gora', 'rabaul', 'beisfjord', 'shimoda', 'chapais', 'manaus', 'tadine', 'winsum', 'corn island', 'simao', 'dakar', 'roald', 'oytal', 'asau', 'artyk', 'spanish town', 'tecoanapa', 'rio grande', 'noyabrsk', 'nome', 'pottsville', 'kyaukse', 'tutoia', 'humaita', 'grand river south east', 'bonnyville', 'spirovo', 'prince george', 'luganville', 'doctor pedro p. pena', 'wagar', 'okato', 'vanavara', 'juegang', 'zaysan', 'lavrentiya', 'poddorye', 'noumea', 'beaverlodge', 'umm lajj', 'chalmette', 'fos-sur-mer', 'arosa', 'govindgarh', 'banfora', 'vagur', 'tukrah', 'gigmoto', 'bozoum', 'shahrud', 'chapleau', 'lotoshino', 'nakhon phanom', 'kapit', 'gravdal', 'skelleftea', 'qasigiannguit', 'saint-georges', 'umm jarr', 'portland', 'nenjiang', 'labuhan', 'paidha', 'san policarpo', 'mabaruma', 'mecca', 'buchanan', 'lagoa', 'sinnamary', 'cervo', 'mnogovershinnyy', 'nguiu', 'smithers', 'sainte-marie', 'areosa', 'jaicos', 'lokosovo', 'jishou', 'pedernales', 'beloha', 'yinchuan', 'chokwe', 'bozeman', 'sorland', 'porto belo', 'krasnoarmeysk', 'kholodnyy', 'sambava', 'inhumas', 'wladyslawowo', 'chatellerault', 'pauini', 'papara', 'yatou', 'mahajanga']\n"
     ]
    }
   ],
   "source": [
    "# List for holding lat_lngs and cities\n",
    "lat_lngs = []\n",
    "cities = []\n",
    "\n",
    "# Create a set of random lat and lng combinations\n",
    "lats = np.random.uniform(low=-90.000, high=90.000, size=1500)\n",
    "lngs = np.random.uniform(low=-180.000, high=180.000, size=1500)\n",
    "lat_lngs = zip(lats, lngs)\n",
    "\n",
    "# Identify nearest city for each lat, lng combination\n",
    "for lat_lng in lat_lngs:\n",
    "    city = citipy.nearest_city(lat_lng[0], lat_lng[1]).city_name\n",
    "    \n",
    "    # If the city is unique, then add it to a our cities list\n",
    "    if city not in cities:\n",
    "        cities.append(city)\n",
    "\n",
    "# Print the city count to confirm sufficient count\n",
    "len(cities)\n",
    "print(cities)"
   ]
  },
  {
   "cell_type": "markdown",
   "metadata": {},
   "source": [
    "### Perform API Calls\n",
    "* Perform a weather check on each city using a series of successive API calls.\n",
    "* Include a print log of each city as it'sbeing processed (with the city number and city name).\n"
   ]
  },
  {
   "cell_type": "code",
   "execution_count": 16,
   "metadata": {},
   "outputs": [],
   "source": [
    "# Define function to create a dictionary containing weather data \n",
    "# for a single city, and append it to the dictionary.\n",
    "def create_city_dict(city):\n",
    "    # Create a list to hold weather data for a single city\n",
    "    city_weather = []\n",
    "\n",
    "    # Save config information\n",
    "    url = \"http://api.openweathermap.org/data/2.5/weather?\"\n",
    "\n",
    "    # Build query URL\n",
    "    query_url = f\"{url}appid={weather_api_key}&q={city}&units=Imperial\"\n",
    "\n",
    "    # Read JSON data to call the Open Weather Map API.\n",
    "    weather_response = requests.get(query_url)\n",
    "    weather_json = weather_response.json()\n",
    "\n",
    "    # Set variables to hold relevant data\n",
    "    city_name = weather_json[\"name\"]\n",
    "    lat = weather_json[\"coord\"][\"lat\"]\n",
    "    lon = weather_json[\"coord\"][\"lon\"]\n",
    "    max_temp = weather_json[\"main\"][\"temp_max\"]\n",
    "    cloud = weather_json[\"clouds\"][\"all\"]\n",
    "    wind_speed = weather_json[\"wind\"][\"speed\"]\n",
    "    humidity = weather_json[\"main\"][\"humidity\"]\n",
    "    date = weather_json[\"dt\"]\n",
    "    id_code = weather_json[\"id\"]\n",
    "    country = weather_json[\"sys\"][\"country\"]\n",
    "\n",
    "    # Append variables to list\n",
    "    city_weather.append(city_name)\n",
    "    city_weather.append(cloud)\n",
    "    city_weather.append(country)\n",
    "    city_weather.append(date)\n",
    "    city_weather.append(humidity)\n",
    "    city_weather.append(lat)\n",
    "    city_weather.append(lon)\n",
    "    city_weather.append(max_temp)\n",
    "    city_weather.append(wind_speed)\n",
    "\n",
    "    # Update all_cities_weather dictionary to include data for that city\n",
    "   \n",
    "    return city_weather"
   ]
  },
  {
   "cell_type": "code",
   "execution_count": 20,
   "metadata": {},
   "outputs": [
    {
     "name": "stdout",
     "output_type": "stream",
     "text": [
      "Processing Record 1 of Set 1 | busselton\n",
      "Processing Record 2 of Set 1 | aklavik\n",
      "Processing Record 3 of Set 1 | bluff\n",
      "Processing Record 4 of Set 1 | klaksvik\n",
      "Processing Record 5 of Set 1 | pangnirtung\n",
      "Processing Record 6 of Set 1 | rikitea\n",
      "Processing Record 7 of Set 1 | hermanus\n",
      "Processing Record 8 of Set 1 | yellowknife\n",
      "Processing Record 9 of Set 1 | vaini\n",
      "Processing Record 10 of Set 1 | priiskovyy\n",
      "Processing Record 11 of Set 1 | castro\n",
      "Processing Record 12 of Set 1 | dikson\n",
      "Processing Record 13 of Set 1 | zhigansk\n",
      "Processing Record 14 of Set 1 | mosjoen\n",
      "Processing Record 15 of Set 1 | thompson\n",
      "Processing Record 16 of Set 1 | souillac\n",
      "Processing Record 17 of Set 1 | xuddur\n",
      "Processing Record 18 of Set 1 | nishihara\n",
      "Processing Record 19 of Set 1 | ushuaia\n",
      "Processing Record 20 of Set 1 | camacha\n",
      "Processing Record 1 of Set 2 | port blair\n",
      "Processing Record 2 of Set 2 | atuona\n",
      "Processing Record 3 of Set 2 | bambous virieux\n",
      "Processing Record 4 of Set 2 | fairbanks\n",
      "Processing Record 5 of Set 2 | vysokogornyy\n",
      "Processing Record 6 of Set 2 | fortuna\n",
      "Processing Record 7 of Set 2 | xuanhua\n",
      "Processing Record 8 of Set 2 | barrow\n",
      "Processing Record 9 of Set 2 | bethel\n",
      "City not found. Skipping...\n",
      "Processing Record 1 of Set 3 | ilulissat\n",
      "Processing Record 2 of Set 3 | djibo\n",
      "Processing Record 3 of Set 3 | iaciara\n",
      "Processing Record 4 of Set 3 | new norfolk\n",
      "Processing Record 5 of Set 3 | saskylakh\n",
      "Processing Record 6 of Set 3 | kemnay\n",
      "Processing Record 7 of Set 3 | torbay\n",
      "Processing Record 8 of Set 3 | talara\n",
      "Processing Record 9 of Set 3 | aripuana\n",
      "Processing Record 10 of Set 3 | balaipungut\n",
      "Processing Record 11 of Set 3 | bengkulu\n",
      "Processing Record 12 of Set 3 | huarmey\n",
      "Processing Record 13 of Set 3 | kaitangata\n",
      "Processing Record 14 of Set 3 | princeton\n",
      "Processing Record 15 of Set 3 | banda aceh\n",
      "Processing Record 16 of Set 3 | liverpool\n",
      "Processing Record 17 of Set 3 | goure\n",
      "Processing Record 18 of Set 3 | cabo san lucas\n",
      "City not found. Skipping...\n",
      "Processing Record 1 of Set 4 | mpulungu\n",
      "Processing Record 2 of Set 4 | hithadhoo\n",
      "Processing Record 3 of Set 4 | dunedin\n",
      "Processing Record 4 of Set 4 | geraldton\n",
      "Processing Record 5 of Set 4 | miesbach\n",
      "City not found. Skipping...\n",
      "Processing Record 1 of Set 5 | pevek\n",
      "Processing Record 2 of Set 5 | brigantine\n",
      "City not found. Skipping...\n",
      "Processing Record 1 of Set 6 | charters towers\n",
      "Processing Record 2 of Set 6 | coihaique\n",
      "Processing Record 3 of Set 6 | sibanicu\n",
      "Processing Record 4 of Set 6 | manica\n",
      "Processing Record 5 of Set 6 | padang\n",
      "Processing Record 6 of Set 6 | camana\n",
      "Processing Record 7 of Set 6 | maryville\n",
      "Processing Record 8 of Set 6 | kultuk\n",
      "Processing Record 9 of Set 6 | ponta do sol\n",
      "Processing Record 10 of Set 6 | kenai\n",
      "Processing Record 11 of Set 6 | boca do acre\n",
      "Processing Record 12 of Set 6 | angoche\n",
      "Processing Record 13 of Set 6 | mislinja\n",
      "Processing Record 14 of Set 6 | san patricio\n",
      "Processing Record 15 of Set 6 | hartlepool\n",
      "Processing Record 16 of Set 6 | lorengau\n",
      "Processing Record 17 of Set 6 | walvis bay\n",
      "Processing Record 18 of Set 6 | kaniama\n",
      "Processing Record 19 of Set 6 | kodiak\n",
      "Processing Record 20 of Set 6 | ancud\n",
      "Processing Record 1 of Set 7 | malinovskiy\n",
      "City not found. Skipping...\n",
      "Processing Record 1 of Set 8 | warman\n",
      "Processing Record 2 of Set 8 | saldanha\n",
      "Processing Record 3 of Set 8 | puerto ayacucho\n",
      "Processing Record 4 of Set 8 | fuyu\n",
      "Processing Record 5 of Set 8 | port-cartier\n",
      "Processing Record 6 of Set 8 | mackay\n",
      "Processing Record 7 of Set 8 | kruisfontein\n",
      "City not found. Skipping...\n",
      "Processing Record 1 of Set 9 | tuatapere\n",
      "Processing Record 2 of Set 9 | namibe\n",
      "Processing Record 3 of Set 9 | nha trang\n",
      "Processing Record 4 of Set 9 | buala\n",
      "Processing Record 5 of Set 9 | keti bandar\n",
      "Processing Record 6 of Set 9 | shakhtinsk\n",
      "Processing Record 7 of Set 9 | pueblo nuevo\n",
      "Processing Record 8 of Set 9 | goderich\n",
      "Processing Record 9 of Set 9 | tiznit\n",
      "Processing Record 10 of Set 9 | hokitika\n",
      "Processing Record 11 of Set 9 | ha tinh\n",
      "Processing Record 12 of Set 9 | bathsheba\n",
      "Processing Record 13 of Set 9 | ribeira brava\n",
      "Processing Record 14 of Set 9 | hobyo\n",
      "Processing Record 15 of Set 9 | esperance\n",
      "Processing Record 16 of Set 9 | naze\n",
      "Processing Record 17 of Set 9 | ewo\n",
      "Processing Record 18 of Set 9 | saint-leu\n",
      "Processing Record 19 of Set 9 | los llanos de aridane\n",
      "Processing Record 20 of Set 9 | navahrudak\n",
      "Processing Record 1 of Set 10 | pokrovo-prigorodnoye\n",
      "City not found. Skipping...\n",
      "Processing Record 1 of Set 11 | bogale\n",
      "Processing Record 2 of Set 11 | mpongwe\n",
      "Processing Record 3 of Set 11 | porto feliz\n",
      "Processing Record 4 of Set 11 | tecpan\n",
      "Processing Record 5 of Set 11 | aguililla\n",
      "Processing Record 6 of Set 11 | harboore\n",
      "Processing Record 7 of Set 11 | dingle\n",
      "Processing Record 8 of Set 11 | roura\n",
      "Processing Record 9 of Set 11 | las cruces\n",
      "Processing Record 10 of Set 11 | belaya gora\n",
      "Processing Record 11 of Set 11 | rabaul\n",
      "Processing Record 12 of Set 11 | beisfjord\n",
      "Processing Record 13 of Set 11 | shimoda\n",
      "Processing Record 14 of Set 11 | chapais\n",
      "Processing Record 15 of Set 11 | manaus\n",
      "Processing Record 16 of Set 11 | tadine\n",
      "Processing Record 17 of Set 11 | winsum\n",
      "Processing Record 18 of Set 11 | corn island\n",
      "Processing Record 19 of Set 11 | simao\n",
      "Processing Record 20 of Set 11 | dakar\n",
      "Processing Record 1 of Set 12 | fos-sur-mer\n",
      "Processing Record 2 of Set 12 | arosa\n",
      "Processing Record 3 of Set 12 | govindgarh\n",
      "Processing Record 4 of Set 12 | banfora\n",
      "Processing Record 5 of Set 12 | vagur\n",
      "Processing Record 6 of Set 12 | tukrah\n",
      "Processing Record 7 of Set 12 | gigmoto\n",
      "Processing Record 8 of Set 12 | bozoum\n",
      "Processing Record 9 of Set 12 | shahrud\n",
      "Processing Record 10 of Set 12 | chapleau\n",
      "Processing Record 11 of Set 12 | lotoshino\n",
      "Processing Record 12 of Set 12 | nakhon phanom\n",
      "Processing Record 13 of Set 12 | kapit\n",
      "Processing Record 14 of Set 12 | gravdal\n",
      "Processing Record 15 of Set 12 | skelleftea\n",
      "Processing Record 16 of Set 12 | qasigiannguit\n",
      "Processing Record 17 of Set 12 | saint-georges\n",
      "City not found. Skipping...\n",
      "Processing Record 1 of Set 13 | pauini\n",
      "Processing Record 2 of Set 13 | papara\n",
      "Processing Record 3 of Set 13 | yatou\n",
      "Processing Record 4 of Set 13 | mahajanga\n",
      "------------------------------\n",
      "Data Retrieval Complete\n",
      "------------------------------\n",
      "['Mahajanga', 40, 'MG', 1584241819, 94, -15.72, 46.32, 78.8, 8.75]\n",
      "12\n",
      "{'busselton': ['Busselton', 28, 'AU', 1584241214, 77, -33.65, 115.33, 72, 8.99], 'aklavik': ['Aklavik', 90, 'CA', 1584241214, 63, 68.22, -135.01, 28.4, 9.17], 'bluff': ['Bluff', 100, 'NZ', 1584241214, 69, -46.6, 168.33, 66, 1.99], 'klaksvik': ['Klaksvík', 100, 'FO', 1584241214, 64, 62.23, -6.59, 35.6, 32.21], 'pangnirtung': ['Pangnirtung', 100, 'CA', 1584241215, 98, 66.15, -65.71, -34.33, 0.72], 'rikitea': ['Rikitea', 3, 'PF', 1584241109, 70, -23.12, -134.97, 79.07, 9.08], 'hermanus': ['Hermanus', 100, 'ZA', 1584241215, 79, -34.42, 19.23, 64, 8.01], 'yellowknife': ['Yellowknife', 90, 'CA', 1584241215, 66, 62.46, -114.35, 10.4, 8.05], 'vaini': ['Vaini', 75, 'TO', 1584241109, 83, -21.2, -175.2, 84.2, 14.99], 'priiskovyy': ['Priiskovyy', 0, 'RU', 1584241215, 73, 51.93, 116.63, 19, 4.41], 'castro': ['Castro', 0, 'BR', 1584241116, 92, -24.79, -50.01, 61.39, 4.52], 'dikson': ['Dikson', 67, 'RU', 1584241216, 99, 73.51, 80.55, -17.95, 6.22], 'zhigansk': ['Zhigansk', 100, 'RU', 1584241216, 94, 66.77, 123.37, -3.84, 23.09], 'mosjoen': ['Mosjøen', 90, 'NO', 1584241216, 74, 65.84, 13.19, 35.6, 20.8], 'thompson': ['Thompson', 20, 'CA', 1584241124, 52, 55.74, -97.86, -7.6, 4.74], 'souillac': ['Souillac', 40, 'MU', 1584241216, 94, -20.52, 57.52, 75.99, 7.81], 'xuddur': ['Oddur', 50, 'SO', 1584241217, 87, 4.12, 43.89, 72.52, 16.84], 'nishihara': ['Nishihara', 0, 'JP', 1584241053, 48, 26.18, 127.76, 62.6, 18.34], 'ushuaia': ['Ushuaia', 40, 'AR', 1584241197, 62, -54.8, -68.3, 53.6, 8.05], 'camacha': ['Camacha', 75, 'PT', 1584241217, 63, 33.08, -16.33, 60.8, 14.99], 'port blair': ['Port Blair', 32, 'IN', 1584241798, 68, 11.67, 92.75, 83.03, 6.24], 'atuona': ['Atuona', 28, 'PF', 1584241798, 67, -9.8, -139.03, 82.47, 8.03], 'bambous virieux': ['Bambous Virieux', 40, 'MU', 1584241799, 94, -20.34, 57.76, 77, 13.02], 'fairbanks': ['Fairbanks', 90, 'US', 1584241532, 62, 64.84, -147.72, 26.6, 5.82], 'vysokogornyy': ['Vysokogornyy', 100, 'RU', 1584241799, 75, 50.12, 139.15, 18.77, 3.51], 'fortuna': ['Fortuna', 75, 'US', 1584241799, 86, 40.6, -124.16, 44.01, 13.87], 'xuanhua': ['Zhangjiakou Shi Xuanhua Qu', 4, 'CN', 1584241506, 38, 40.61, 115.04, 44.46, 13.2], 'barrow': ['Barrow', 20, 'US', 1584241666, 70, 71.29, -156.79, 1.4, 23.04], 'bethel': ['Bethel', 90, 'US', 1584241737, 52, 41.37, -73.41, 48.2, 8.05], 'ilulissat': ['Ilulissat', 97, 'GL', 1584241800, 70, 69.22, -51.1, -0.4, 9.17], 'djibo': ['Djibo', 0, 'BF', 1584241800, 10, 14.1, -1.63, 77.25, 10.13], 'iaciara': ['Iaciara', 100, 'BR', 1584241800, 92, -14.1, -46.63, 68.85, 1.59], 'new norfolk': ['New Norfolk', 40, 'AU', 1584241800, 55, -42.78, 147.06, 63, 14.99], 'saskylakh': ['Saskylakh', 100, 'RU', 1584241800, 92, 71.92, 114.08, 5.95, 12.01], 'kemnay': ['Kemnay', 9, 'GB', 1584241801, 81, 57.24, -2.44, 44.01, 17.22], 'torbay': ['Torbay', 75, 'CA', 1584241801, 85, 47.67, -52.73, 34, 24.16], 'talara': ['Talara', 10, 'PE', 1584241801, 85, -4.58, -81.27, 77.05, 6.67], 'aripuana': ['Aripuanã', 100, 'BR', 1584241801, 99, -9.17, -60.63, 72.34, 2.15], 'balaipungut': ['Balaipungut', 15, 'ID', 1584241801, 60, 1.05, 101.28, 87.94, 3.65], 'bengkulu': ['Bengkulu', 100, 'ID', 1584241656, 57, -3.8, 102.27, 88.72, 0.67], 'huarmey': ['Huarmey', 100, 'PE', 1584241802, 74, -10.07, -78.15, 72.63, 1.63], 'kaitangata': ['Kaitangata', 100, 'NZ', 1584241802, 77, -46.28, 169.85, 62.01, 3], 'princeton': ['Princeton', 20, 'US', 1584241802, 73, 25.54, -80.41, 77, 10.29], 'banda aceh': ['Banda Aceh', 23, 'ID', 1584241802, 62, 5.56, 95.32, 85.44, 5.73], 'liverpool': ['Liverpool', 75, 'GB', 1584241582, 87, 53.41, -2.98, 50, 18.34], 'goure': ['Gouré', 67, 'NE', 1584241802, 20, 13.98, 10.27, 68, 5.01], 'cabo san lucas': ['Cabo San Lucas', 40, 'MX', 1584241802, 73, 22.89, -109.91, 71.01, 3.36], 'mpulungu': ['Mpulungu', 77, 'ZM', 1584241803, 87, -8.76, 31.11, 63.77, 1.12], 'hithadhoo': ['Hithadhoo', 74, 'MV', 1584241699, 63, -0.6, 73.08, 83.25, 5.37], 'dunedin': ['Dunedin', 100, 'NZ', 1584241803, 77, -45.87, 170.5, 62.01, 3], 'geraldton': ['Geraldton', 100, 'AU', 1584241803, 74, -28.77, 114.6, 80.01, 13.87], 'miesbach': ['Miesbach', 0, 'DE', 1584241804, 100, 47.79, 11.83, 35.6, 3.36], 'pevek': ['Pevek', 100, 'RU', 1584241804, 67, 69.7, 170.31, 7.63, 8.12], 'brigantine': ['Brigantine', 90, 'US', 1584241804, 45, 39.41, -74.36, 51.01, 6.93], 'charters towers': ['Charters Towers', 0, 'AU', 1584241804, 35, -20.1, 146.27, 85.17, 11.83], 'coihaique': ['Coyhaique', 5, 'CL', 1584241643, 71, -45.58, -72.07, 53.6, 2.24], 'sibanicu': ['Sibanicú', 20, 'CU', 1584241805, 88, 21.23, -77.53, 73.4, 14.99], 'manica': ['Manche', 90, 'FR', 1584241805, 87, 49, -1.17, 48, 11.41], 'padang': ['Padang', 49, 'ID', 1584241805, 58, -0.95, 100.35, 83.03, 1.83], 'camana': ['Camaná', 65, 'PE', 1584241805, 84, -16.62, -72.71, 66.76, 2.89], 'maryville': ['Maryville', 90, 'US', 1584241805, 93, 35.76, -83.97, 55.99, 5.14], 'kultuk': ['Kultuk', 60, 'RU', 1584241806, 81, 51.72, 103.7, 30.34, 4.76], 'ponta do sol': ['Ponta do Sol', 75, 'PT', 1584241806, 63, 32.67, -17.1, 60.8, 8.05], 'kenai': ['Kenai', 1, 'US', 1584241806, 36, 60.55, -151.26, 30.99, 5.82], 'boca do acre': ['Boca do Acre', 88, 'BR', 1584241806, 79, -8.75, -67.4, 77.2, 3.11], 'angoche': ['Angoche', 97, 'MZ', 1584241806, 97, -16.23, 39.91, 70.21, 4.56], 'mislinja': ['Mislinja', 63, 'SI', 1584241806, 50, 46.44, 15.2, 37.4, 1.12], 'san patricio': ['San Patricio', 75, 'MX', 1584241806, 83, 19.22, -104.7, 80.6, 3.89], 'hartlepool': ['Hartlepool', 100, 'GB', 1584241807, 81, 54.69, -1.21, 51.01, 19.46], 'lorengau': ['Lorengau', 99, 'PG', 1584241807, 74, -2.02, 147.27, 84.74, 11.48], 'walvis bay': ['Walvis Bay', 0, 'NA', 1584241807, 94, -22.96, 14.51, 61, 9.4], 'kaniama': ['Kaniama', 85, 'CD', 1584241807, 97, -7.57, 24.18, 64.99, 2.39], 'kodiak': ['Saint Paul Harbor', 40, 'US', 1584241662, 55, 57.79, -152.41, 39.2, 4.7], 'ancud': ['Ancud', 16, 'CL', 1584241808, 93, -41.87, -73.82, 46.4, 4.7], 'malinovskiy': ['Malinovskiy', 0, 'RU', 1584241808, 87, 61.2, 62.84, 27.77, 6.85], 'warman': ['Warman', 90, 'CA', 1584241808, 71, 52.32, -106.57, 10, 18.34], 'saldanha': ['Saldanha', 13, 'ZA', 1584241808, 77, -33.01, 17.94, 62.6, 16.11], 'puerto ayacucho': ['Puerto Ayacucho', 70, 'VE', 1584241808, 91, 5.66, -67.62, 73.47, 2.95], 'fuyu': ['Fuyu', 25, 'CN', 1584241808, 50, 45.18, 124.82, 19.15, 19.46], 'port-cartier': ['Port-Cartier', 90, 'CA', 1584241809, 68, 50.03, -66.87, 27, 9.17], 'mackay': ['Mackay', 11, 'AU', 1584241809, 51, -21.15, 149.2, 84.99, 13.87], 'kruisfontein': ['Kruisfontein', 10, 'ZA', 1584241809, 84, -34, 24.73, 62.2, 8.63], 'tuatapere': ['Tuatapere', 100, 'NZ', 1584241809, 69, -46.13, 167.68, 66.99, 1.01], 'namibe': ['Mossamedes', 87, 'AO', 1584241809, 76, -15.2, 12.15, 76.46, 3.69], 'nha trang': ['Nha Trang', 40, 'VN', 1584241710, 70, 12.25, 109.18, 87.8, 13.87], 'buala': ['Buala', 78, 'SB', 1584241810, 78, -8.14, 159.59, 83.19, 10.31], 'keti bandar': ['Keti Bandar', 100, 'PK', 1584241749, 41, 24.14, 67.45, 72.03, 8.66], 'shakhtinsk': ['Shakhtinsk', 100, 'KZ', 1584241810, 80, 49.71, 72.59, 30.2, 22.37], 'pueblo nuevo': ['Pueblo Nuevo', 67, 'MX', 1584241810, 60, 23.38, -105.38, 58.57, 4.88], 'goderich': ['Goderich', 100, 'CA', 1584241650, 81, 43.75, -81.72, 30.99, 9.13], 'tiznit': ['Tiznit Province', 97, 'MA', 1584241811, 92, 29.58, -9.5, 50.61, 1.57], 'hokitika': ['Hokitika', 100, 'NZ', 1584241811, 71, -42.72, 170.97, 61.36, 5.06], 'ha tinh': ['Ha Tinh', 100, 'VN', 1584241811, 90, 18.33, 105.9, 69.69, 10.56], 'bathsheba': ['Bathsheba', 75, 'BB', 1584241811, 78, 13.22, -59.52, 78.8, 9.17], 'ribeira brava': ['Ribeira Brava', 75, 'PT', 1584241811, 63, 32.65, -17.07, 60.8, 8.05], 'hobyo': ['Hobyo', 56, 'SO', 1584241811, 80, 5.35, 48.53, 79.88, 13.33], 'esperance': ['Esperance', 100, 'AU', 1584241811, 57, -33.87, 121.9, 75.2, 20.8], 'naze': ['Naze', 75, 'JP', 1584241757, 42, 28.37, 129.48, 62.6, 17.22], 'ewo': ['Ewo', 100, 'CG', 1584241812, 71, -0.87, 14.82, 74.17, 3.22], 'saint-leu': ['Saint-Leu', 100, 'RE', 1584241790, 69, -21.15, 55.28, 73.4, 6.93], 'los llanos de aridane': ['Los Llanos de Aridane', 40, 'ES', 1584241812, 77, 28.66, -17.92, 60.8, 12.75], 'navahrudak': ['Navahrudak', 0, 'BY', 1584241812, 69, 53.6, 25.83, 25.72, 12.66], 'pokrovo-prigorodnoye': ['Pokrovo-Prigorodnoye', 24, 'RU', 1584241812, 80, 52.68, 41.42, 30.83, 15.95], 'bogale': ['Bogale', 37, 'MM', 1584241813, 35, 16.28, 95.4, 90.81, 5.95], 'mpongwe': ['Mpongwe', 100, 'ZM', 1584241813, 96, -13.51, 28.16, 64.42, 2.24], 'porto feliz': ['Porto Feliz', 0, 'BR', 1584241813, 78, -23.21, -47.52, 73.4, 14.99], 'tecpan': ['Tecpan', 20, 'GT', 1584241813, 60, 14.76, -90.99, 68, 13.87], 'aguililla': ['Aguililla', 20, 'MX', 1584241813, 95, 18.73, -102.73, 64.6, 4.32], 'harboore': ['Harboøre', 100, 'DK', 1584241814, 70, 56.62, 8.18, 42.8, 12.75], 'dingle': ['Dingle', 3, 'PH', 1584241814, 53, 11, 122.67, 85.03, 9.04], 'roura': ['Roura', 92, 'GF', 1584241814, 78, 4.73, -52.33, 78.8, 5.82], 'las cruces': ['Las Cruces', 1, 'US', 1584241814, 58, 32.31, -106.78, 63, 5.82], 'belaya gora': ['Belaya Gora', 0, 'RU', 1584241814, 81, 68.53, 146.42, -14.13, 2.64], 'rabaul': ['Rabaul', 100, 'PG', 1584241814, 74, -4.2, 152.17, 84.38, 12.8], 'beisfjord': ['Beisfjord', 100, 'NO', 1584241814, 74, 68.38, 17.6, 35.6, 43.62], 'shimoda': ['Shimoda', 75, 'JP', 1584241750, 57, 34.67, 138.95, 53.01, 11.41], 'chapais': ['Chapais', 90, 'CA', 1584241815, 78, 49.78, -74.85, 12.2, 10.29], 'manaus': ['Manaus', 75, 'BR', 1584241747, 100, -3.1, -60.02, 75.2, 3.36], 'tadine': ['Tadine', 100, 'NC', 1584241815, 83, -21.55, 167.88, 83.62, 24.58], 'winsum': ['Winsum', 90, 'NL', 1584241815, 81, 53.33, 6.52, 46.4, 13.87], 'corn island': ['Corn Island', 59, 'NI', 1584241815, 79, 12.17, -83.04, 80.73, 13.47], 'simao': ['Simao', 0, 'CN', 1584241816, 24, 22.79, 100.97, 81.23, 4.21], 'dakar': ['Dakar', 40, 'SN', 1584241569, 88, 14.69, -17.44, 71.6, 8.05], 'fos-sur-mer': ['Fos-sur-Mer', 1, 'FR', 1584241816, 61, 43.44, 4.94, 48, 5.82], 'arosa': ['Arosa', 5, 'CH', 1584241816, 86, 46.78, 9.68, 37, 6.93], 'govindgarh': ['Govindgarh', 0, 'IN', 1584241816, 44, 27.5, 76.98, 63.97, 4.85], 'banfora': ['Banfora', 73, 'BF', 1584241817, 27, 10.63, -4.77, 78.42, 2.93], 'vagur': ['Vágur', 100, 'FO', 1584241817, 81, 61.47, -6.81, 37.53, 34.27], 'tukrah': ['Tūkrah', 89, 'LY', 1584241817, 55, 32.53, 20.58, 57.54, 5.59], 'gigmoto': ['Gigmoto', 33, 'PH', 1584241817, 61, 13.78, 124.39, 81.16, 5.82], 'bozoum': ['Bozoum', 100, 'CF', 1584241817, 13, 6.32, 16.38, 72.23, 3.98], 'shahrud': ['Shahrud', 41, 'IR', 1584241817, 43, 36.42, 54.98, 47.32, 6.62], 'chapleau': ['Chapleau', 85, 'CA', 1584241817, 97, 47.84, -83.4, 8.98, 5.68], 'lotoshino': ['Lotoshino', 63, 'RU', 1584241818, 74, 56.23, 35.64, 21.83, 13.94], 'nakhon phanom': ['Nakhon Phanom', 69, 'TH', 1584241818, 61, 17.41, 104.78, 89.01, 14.99], 'kapit': ['Kapit', 97, 'MY', 1584241818, 64, 2.02, 112.93, 85.24, 3.44], 'gravdal': ['Gravdal', 49, 'NO', 1584241818, 68, 68.12, 13.5, 35.28, 17.36], 'skelleftea': ['Skellefteå', 100, 'SE', 1584241818, 63, 64.75, 20.95, 26.6, 13.87], 'qasigiannguit': ['Qasigiannguit', 97, 'GL', 1584241819, 70, 68.82, -51.19, -0.4, 9.17], 'saint-georges': [\"St. George's\", 75, 'GD', 1584241677, 94, 12.06, -61.75, 75.2, 11.21], 'pauini': ['Pauini', 100, 'BR', 1584241819, 83, -7.71, -66.98, 76.77, 2.42], 'papara': ['Papara', 40, 'BR', 1584241819, 94, -3.98, -38.73, 78.01, 4.7], 'yatou': ['Yatou', 62, 'CN', 1584241819, 50, 37.15, 122.38, 43.9, 20.98], 'mahajanga': ['Mahajanga', 40, 'MG', 1584241819, 94, -15.72, 46.32, 78.8, 8.75]}\n"
     ]
    }
   ],
   "source": [
    "# Create a dictionary to hold each city name as a key\n",
    "# and a list of city weather data as values\n",
    "all_cities_weather = {}\n",
    "\n",
    "# Perform a loop of API calls cities\n",
    "try:\n",
    "    # Loop through x groups of 50 cities.  \n",
    "    # If number of cities is not divisible by 50, \n",
    "    # then the last group will raise an IndexError. \n",
    "    # Raise an Exception IndexError to Terminate the loop.\n",
    "    for x in range(0, math.floor(len(cities)/50+1)):\n",
    "        try:\n",
    "            # Loop through each set of 50 cities\n",
    "            for y in range(0, 49):\n",
    "                \n",
    "                # Create a variable to hold weather data for that city.\n",
    "                city = create_city_dict(cities[x*50+y])   \n",
    "    \n",
    "                # Update all_cities_weather dictionary to include data for that city\n",
    "                all_cities_weather.update({cities[x*50+y]:city})\n",
    "    \n",
    "                # Print index number of city, index number of groups, and name of city\n",
    "                print(f\"Processing Record {y+1} of Set {x+1} | {cities[x*50+y]}\")\n",
    "        \n",
    "        except KeyError:\n",
    "            print(\"City not found. Skipping...\")\n",
    "\n",
    "    # Delay 20 seconds between API calls\n",
    "    time.sleep(20)\n",
    "    \n",
    "    # Exception IndexError to terminate the loop.\n",
    "except IndexError:\n",
    "    print(f\"------------------------------\") \n",
    "    print(f\"Data Retrieval Complete\") \n",
    "    print(f\"------------------------------\")\n",
    "\n",
    "print(all_cities_weather)"
   ]
  },
  {
   "cell_type": "code",
   "execution_count": 13,
   "metadata": {
    "scrolled": true
   },
   "outputs": [
    {
     "ename": "NameError",
     "evalue": "name 'weather_json' is not defined",
     "output_type": "error",
     "traceback": [
      "\u001b[1;31m---------------------------------------------------------------------------\u001b[0m",
      "\u001b[1;31mNameError\u001b[0m                                 Traceback (most recent call last)",
      "\u001b[1;32m<ipython-input-13-7f45300d1e7b>\u001b[0m in \u001b[0;36m<module>\u001b[1;34m\u001b[0m\n\u001b[1;32m----> 1\u001b[1;33m \u001b[0mprint\u001b[0m\u001b[1;33m(\u001b[0m\u001b[0mjson\u001b[0m\u001b[1;33m.\u001b[0m\u001b[0mdumps\u001b[0m\u001b[1;33m(\u001b[0m\u001b[0mweather_json\u001b[0m\u001b[1;33m,\u001b[0m \u001b[0mindent\u001b[0m\u001b[1;33m=\u001b[0m\u001b[1;36m4\u001b[0m\u001b[1;33m)\u001b[0m\u001b[1;33m)\u001b[0m\u001b[1;33m\u001b[0m\u001b[1;33m\u001b[0m\u001b[0m\n\u001b[0m",
      "\u001b[1;31mNameError\u001b[0m: name 'weather_json' is not defined"
     ]
    }
   ],
   "source": [
    "print(json.dumps(weather_json, indent=4))"
   ]
  },
  {
   "cell_type": "code",
   "execution_count": null,
   "metadata": {},
   "outputs": [],
   "source": [
    "\n"
   ]
  },
  {
   "cell_type": "markdown",
   "metadata": {},
   "source": [
    "### Convert Raw Data to DataFrame\n",
    "* Export the city data into a .csv.\n",
    "* Display the DataFrame"
   ]
  },
  {
   "cell_type": "code",
   "execution_count": null,
   "metadata": {},
   "outputs": [],
   "source": [
    "Summary = pd.DataFrame.from_dict(all_cities_weather, orient=\"index\")\n",
    "\n",
    "Summary = Summary.rename(columns=\n",
    "                        {0:\"City\",\n",
    "                        1:\"Cloudiness\",\n",
    "                        2:\"Country\",\n",
    "                        3:\"Date\",\n",
    "                        4:\"Humidity\",\n",
    "                        5:\"Lat\",\n",
    "                        6:\"Lng\",\n",
    "                        7:\"Max Temp\",\n",
    "                        8:\"Wind Speed\"}\n",
    "                        )\n",
    "Summary\n",
    "Summary.reset_index(drop=True)"
   ]
  },
  {
   "cell_type": "code",
   "execution_count": null,
   "metadata": {},
   "outputs": [],
   "source": []
  },
  {
   "cell_type": "code",
   "execution_count": null,
   "metadata": {},
   "outputs": [],
   "source": []
  },
  {
   "cell_type": "markdown",
   "metadata": {},
   "source": [
    "### Plotting the Data\n",
    "* Use proper labeling of the plots using plot titles (including date of analysis) and axes labels.\n",
    "* Save the plotted figures as .pngs."
   ]
  },
  {
   "cell_type": "markdown",
   "metadata": {},
   "source": [
    "#### Latitude vs. Temperature Plot"
   ]
  },
  {
   "cell_type": "code",
   "execution_count": null,
   "metadata": {
    "scrolled": true
   },
   "outputs": [],
   "source": []
  },
  {
   "cell_type": "markdown",
   "metadata": {},
   "source": [
    "#### Latitude vs. Humidity Plot"
   ]
  },
  {
   "cell_type": "code",
   "execution_count": null,
   "metadata": {},
   "outputs": [],
   "source": []
  },
  {
   "cell_type": "markdown",
   "metadata": {},
   "source": [
    "#### Latitude vs. Cloudiness Plot"
   ]
  },
  {
   "cell_type": "code",
   "execution_count": null,
   "metadata": {},
   "outputs": [],
   "source": []
  },
  {
   "cell_type": "markdown",
   "metadata": {},
   "source": [
    "#### Latitude vs. Wind Speed Plot"
   ]
  },
  {
   "cell_type": "code",
   "execution_count": null,
   "metadata": {},
   "outputs": [],
   "source": []
  },
  {
   "cell_type": "markdown",
   "metadata": {},
   "source": [
    "## Linear Regression"
   ]
  },
  {
   "cell_type": "code",
   "execution_count": null,
   "metadata": {},
   "outputs": [],
   "source": [
    "# OPTIONAL: Create a function to create Linear Regression plots\n"
   ]
  },
  {
   "cell_type": "code",
   "execution_count": null,
   "metadata": {},
   "outputs": [],
   "source": [
    "# Create Northern and Southern Hemisphere DataFrames\n"
   ]
  },
  {
   "cell_type": "markdown",
   "metadata": {},
   "source": [
    "####  Northern Hemisphere - Max Temp vs. Latitude Linear Regression"
   ]
  },
  {
   "cell_type": "code",
   "execution_count": null,
   "metadata": {},
   "outputs": [],
   "source": []
  },
  {
   "cell_type": "markdown",
   "metadata": {},
   "source": [
    "####  Southern Hemisphere - Max Temp vs. Latitude Linear Regression"
   ]
  },
  {
   "cell_type": "code",
   "execution_count": null,
   "metadata": {},
   "outputs": [],
   "source": []
  },
  {
   "cell_type": "markdown",
   "metadata": {},
   "source": [
    "####  Northern Hemisphere - Humidity (%) vs. Latitude Linear Regression"
   ]
  },
  {
   "cell_type": "code",
   "execution_count": null,
   "metadata": {},
   "outputs": [],
   "source": []
  },
  {
   "cell_type": "markdown",
   "metadata": {},
   "source": [
    "####  Southern Hemisphere - Humidity (%) vs. Latitude Linear Regression"
   ]
  },
  {
   "cell_type": "code",
   "execution_count": null,
   "metadata": {},
   "outputs": [],
   "source": []
  },
  {
   "cell_type": "markdown",
   "metadata": {},
   "source": [
    "####  Northern Hemisphere - Cloudiness (%) vs. Latitude Linear Regression"
   ]
  },
  {
   "cell_type": "code",
   "execution_count": null,
   "metadata": {},
   "outputs": [],
   "source": []
  },
  {
   "cell_type": "markdown",
   "metadata": {},
   "source": [
    "####  Southern Hemisphere - Cloudiness (%) vs. Latitude Linear Regression"
   ]
  },
  {
   "cell_type": "code",
   "execution_count": null,
   "metadata": {},
   "outputs": [],
   "source": []
  },
  {
   "cell_type": "markdown",
   "metadata": {},
   "source": [
    "####  Northern Hemisphere - Wind Speed (mph) vs. Latitude Linear Regression"
   ]
  },
  {
   "cell_type": "code",
   "execution_count": null,
   "metadata": {},
   "outputs": [],
   "source": []
  },
  {
   "cell_type": "markdown",
   "metadata": {},
   "source": [
    "####  Southern Hemisphere - Wind Speed (mph) vs. Latitude Linear Regression"
   ]
  },
  {
   "cell_type": "code",
   "execution_count": null,
   "metadata": {},
   "outputs": [],
   "source": []
  },
  {
   "cell_type": "code",
   "execution_count": null,
   "metadata": {},
   "outputs": [],
   "source": []
  }
 ],
 "metadata": {
  "anaconda-cloud": {},
  "kernel_info": {
   "name": "python3"
  },
  "kernelspec": {
   "display_name": "Python 3",
   "language": "python",
   "name": "python3"
  },
  "language_info": {
   "codemirror_mode": {
    "name": "ipython",
    "version": 3
   },
   "file_extension": ".py",
   "mimetype": "text/x-python",
   "name": "python",
   "nbconvert_exporter": "python",
   "pygments_lexer": "ipython3",
   "version": "3.7.1"
  },
  "latex_envs": {
   "LaTeX_envs_menu_present": true,
   "autoclose": false,
   "autocomplete": true,
   "bibliofile": "biblio.bib",
   "cite_by": "apalike",
   "current_citInitial": 1,
   "eqLabelWithNumbers": true,
   "eqNumInitial": 1,
   "hotkeys": {
    "equation": "Ctrl-E",
    "itemize": "Ctrl-I"
   },
   "labels_anchors": false,
   "latex_user_defs": false,
   "report_style_numbering": false,
   "user_envs_cfg": false
  },
  "nteract": {
   "version": "0.12.3"
  }
 },
 "nbformat": 4,
 "nbformat_minor": 2
}
